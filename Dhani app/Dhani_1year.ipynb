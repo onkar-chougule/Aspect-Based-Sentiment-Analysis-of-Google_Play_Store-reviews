{
  "nbformat": 4,
  "nbformat_minor": 0,
  "metadata": {
    "colab": {
      "name": "Dhani_1year.ipynb",
      "provenance": [],
      "collapsed_sections": []
    },
    "kernelspec": {
      "name": "python3",
      "display_name": "Python 3"
    }
  },
  "cells": [
    {
      "cell_type": "code",
      "metadata": {
        "colab": {
          "base_uri": "https://localhost:8080/"
        },
        "id": "sAjWtXEJybEI",
        "outputId": "e0e08c00-5863-4d1a-8f31-0117418cdfd5"
      },
      "source": [
        "pip install google_play_scraper"
      ],
      "execution_count": null,
      "outputs": [
        {
          "output_type": "stream",
          "text": [
            "Collecting google_play_scraper\n",
            "\u001b[?25l  Downloading https://files.pythonhosted.org/packages/ac/de/87c97ba42c156e53f0eb67a2b68a13d6f77da98d24f6d52f70c631c8e526/google-play-scraper-0.1.2.tar.gz (49kB)\n",
            "\r\u001b[K     |██████▋                         | 10kB 15.1MB/s eta 0:00:01\r\u001b[K     |█████████████▎                  | 20kB 10.7MB/s eta 0:00:01\r\u001b[K     |████████████████████            | 30kB 8.0MB/s eta 0:00:01\r\u001b[K     |██████████████████████████▌     | 40kB 7.2MB/s eta 0:00:01\r\u001b[K     |████████████████████████████████| 51kB 2.5MB/s \n",
            "\u001b[?25hBuilding wheels for collected packages: google-play-scraper\n",
            "  Building wheel for google-play-scraper (setup.py) ... \u001b[?25l\u001b[?25hdone\n",
            "  Created wheel for google-play-scraper: filename=google_play_scraper-0.1.2-cp36-none-any.whl size=22280 sha256=4e22ff5fad115775272c1ffa59cbb34612c3c1701a7c4d4c519d0fd751a9966b\n",
            "  Stored in directory: /root/.cache/pip/wheels/c3/0c/dc/847f7da787b7d2c28b26a5062f86eac3f16a8cb0bdfdc1f308\n",
            "Successfully built google-play-scraper\n",
            "Installing collected packages: google-play-scraper\n",
            "Successfully installed google-play-scraper-0.1.2\n"
          ],
          "name": "stdout"
        }
      ]
    },
    {
      "cell_type": "code",
      "metadata": {
        "colab": {
          "base_uri": "https://localhost:8080/"
        },
        "id": "q4UINosFyd_T",
        "outputId": "684b5b2e-f7a0-49a9-af7b-4d4245a752ff"
      },
      "source": [
        "pip install fuzzywuzzy"
      ],
      "execution_count": null,
      "outputs": [
        {
          "output_type": "stream",
          "text": [
            "Collecting fuzzywuzzy\n",
            "  Downloading https://files.pythonhosted.org/packages/43/ff/74f23998ad2f93b945c0309f825be92e04e0348e062026998b5eefef4c33/fuzzywuzzy-0.18.0-py2.py3-none-any.whl\n",
            "Installing collected packages: fuzzywuzzy\n",
            "Successfully installed fuzzywuzzy-0.18.0\n"
          ],
          "name": "stdout"
        }
      ]
    },
    {
      "cell_type": "code",
      "metadata": {
        "colab": {
          "base_uri": "https://localhost:8080/"
        },
        "id": "t3E-nnhrygVI",
        "outputId": "e067385a-f74a-4367-a9fd-0888e61c3a99"
      },
      "source": [
        "import nltk\r\n",
        "nltk.download('all')"
      ],
      "execution_count": null,
      "outputs": [
        {
          "output_type": "stream",
          "text": [
            "[nltk_data] Downloading collection 'all'\n",
            "[nltk_data]    | \n",
            "[nltk_data]    | Downloading package abc to /root/nltk_data...\n",
            "[nltk_data]    |   Package abc is already up-to-date!\n",
            "[nltk_data]    | Downloading package alpino to /root/nltk_data...\n",
            "[nltk_data]    |   Package alpino is already up-to-date!\n",
            "[nltk_data]    | Downloading package biocreative_ppi to\n",
            "[nltk_data]    |     /root/nltk_data...\n",
            "[nltk_data]    |   Package biocreative_ppi is already up-to-date!\n",
            "[nltk_data]    | Downloading package brown to /root/nltk_data...\n",
            "[nltk_data]    |   Package brown is already up-to-date!\n",
            "[nltk_data]    | Downloading package brown_tei to /root/nltk_data...\n",
            "[nltk_data]    |   Package brown_tei is already up-to-date!\n",
            "[nltk_data]    | Downloading package cess_cat to /root/nltk_data...\n",
            "[nltk_data]    |   Package cess_cat is already up-to-date!\n",
            "[nltk_data]    | Downloading package cess_esp to /root/nltk_data...\n",
            "[nltk_data]    |   Package cess_esp is already up-to-date!\n",
            "[nltk_data]    | Downloading package chat80 to /root/nltk_data...\n",
            "[nltk_data]    |   Package chat80 is already up-to-date!\n",
            "[nltk_data]    | Downloading package city_database to\n",
            "[nltk_data]    |     /root/nltk_data...\n",
            "[nltk_data]    |   Package city_database is already up-to-date!\n",
            "[nltk_data]    | Downloading package cmudict to /root/nltk_data...\n",
            "[nltk_data]    |   Package cmudict is already up-to-date!\n",
            "[nltk_data]    | Downloading package comparative_sentences to\n",
            "[nltk_data]    |     /root/nltk_data...\n",
            "[nltk_data]    |   Package comparative_sentences is already up-to-\n",
            "[nltk_data]    |       date!\n",
            "[nltk_data]    | Downloading package comtrans to /root/nltk_data...\n",
            "[nltk_data]    |   Package comtrans is already up-to-date!\n",
            "[nltk_data]    | Downloading package conll2000 to /root/nltk_data...\n",
            "[nltk_data]    |   Package conll2000 is already up-to-date!\n",
            "[nltk_data]    | Downloading package conll2002 to /root/nltk_data...\n",
            "[nltk_data]    |   Package conll2002 is already up-to-date!\n",
            "[nltk_data]    | Downloading package conll2007 to /root/nltk_data...\n",
            "[nltk_data]    |   Package conll2007 is already up-to-date!\n",
            "[nltk_data]    | Downloading package crubadan to /root/nltk_data...\n",
            "[nltk_data]    |   Package crubadan is already up-to-date!\n",
            "[nltk_data]    | Downloading package dependency_treebank to\n",
            "[nltk_data]    |     /root/nltk_data...\n",
            "[nltk_data]    |   Package dependency_treebank is already up-to-date!\n",
            "[nltk_data]    | Downloading package dolch to /root/nltk_data...\n",
            "[nltk_data]    |   Package dolch is already up-to-date!\n",
            "[nltk_data]    | Downloading package europarl_raw to\n",
            "[nltk_data]    |     /root/nltk_data...\n",
            "[nltk_data]    |   Package europarl_raw is already up-to-date!\n",
            "[nltk_data]    | Downloading package floresta to /root/nltk_data...\n",
            "[nltk_data]    |   Package floresta is already up-to-date!\n",
            "[nltk_data]    | Downloading package framenet_v15 to\n",
            "[nltk_data]    |     /root/nltk_data...\n",
            "[nltk_data]    |   Package framenet_v15 is already up-to-date!\n",
            "[nltk_data]    | Downloading package framenet_v17 to\n",
            "[nltk_data]    |     /root/nltk_data...\n",
            "[nltk_data]    |   Package framenet_v17 is already up-to-date!\n",
            "[nltk_data]    | Downloading package gazetteers to /root/nltk_data...\n",
            "[nltk_data]    |   Package gazetteers is already up-to-date!\n",
            "[nltk_data]    | Downloading package genesis to /root/nltk_data...\n",
            "[nltk_data]    |   Package genesis is already up-to-date!\n",
            "[nltk_data]    | Downloading package gutenberg to /root/nltk_data...\n",
            "[nltk_data]    |   Package gutenberg is already up-to-date!\n",
            "[nltk_data]    | Downloading package ieer to /root/nltk_data...\n",
            "[nltk_data]    |   Package ieer is already up-to-date!\n",
            "[nltk_data]    | Downloading package inaugural to /root/nltk_data...\n",
            "[nltk_data]    |   Package inaugural is already up-to-date!\n",
            "[nltk_data]    | Downloading package indian to /root/nltk_data...\n",
            "[nltk_data]    |   Package indian is already up-to-date!\n",
            "[nltk_data]    | Downloading package jeita to /root/nltk_data...\n",
            "[nltk_data]    |   Package jeita is already up-to-date!\n",
            "[nltk_data]    | Downloading package kimmo to /root/nltk_data...\n",
            "[nltk_data]    |   Package kimmo is already up-to-date!\n",
            "[nltk_data]    | Downloading package knbc to /root/nltk_data...\n",
            "[nltk_data]    |   Package knbc is already up-to-date!\n",
            "[nltk_data]    | Downloading package lin_thesaurus to\n",
            "[nltk_data]    |     /root/nltk_data...\n",
            "[nltk_data]    |   Package lin_thesaurus is already up-to-date!\n",
            "[nltk_data]    | Downloading package mac_morpho to /root/nltk_data...\n",
            "[nltk_data]    |   Package mac_morpho is already up-to-date!\n",
            "[nltk_data]    | Downloading package machado to /root/nltk_data...\n",
            "[nltk_data]    |   Package machado is already up-to-date!\n",
            "[nltk_data]    | Downloading package masc_tagged to /root/nltk_data...\n",
            "[nltk_data]    |   Package masc_tagged is already up-to-date!\n",
            "[nltk_data]    | Downloading package moses_sample to\n",
            "[nltk_data]    |     /root/nltk_data...\n",
            "[nltk_data]    |   Package moses_sample is already up-to-date!\n",
            "[nltk_data]    | Downloading package movie_reviews to\n",
            "[nltk_data]    |     /root/nltk_data...\n",
            "[nltk_data]    |   Package movie_reviews is already up-to-date!\n",
            "[nltk_data]    | Downloading package names to /root/nltk_data...\n",
            "[nltk_data]    |   Package names is already up-to-date!\n",
            "[nltk_data]    | Downloading package nombank.1.0 to /root/nltk_data...\n",
            "[nltk_data]    |   Package nombank.1.0 is already up-to-date!\n",
            "[nltk_data]    | Downloading package nps_chat to /root/nltk_data...\n",
            "[nltk_data]    |   Package nps_chat is already up-to-date!\n",
            "[nltk_data]    | Downloading package omw to /root/nltk_data...\n",
            "[nltk_data]    |   Package omw is already up-to-date!\n",
            "[nltk_data]    | Downloading package opinion_lexicon to\n",
            "[nltk_data]    |     /root/nltk_data...\n",
            "[nltk_data]    |   Package opinion_lexicon is already up-to-date!\n",
            "[nltk_data]    | Downloading package paradigms to /root/nltk_data...\n",
            "[nltk_data]    |   Package paradigms is already up-to-date!\n",
            "[nltk_data]    | Downloading package pil to /root/nltk_data...\n",
            "[nltk_data]    |   Package pil is already up-to-date!\n",
            "[nltk_data]    | Downloading package pl196x to /root/nltk_data...\n",
            "[nltk_data]    |   Package pl196x is already up-to-date!\n",
            "[nltk_data]    | Downloading package ppattach to /root/nltk_data...\n",
            "[nltk_data]    |   Package ppattach is already up-to-date!\n",
            "[nltk_data]    | Downloading package problem_reports to\n",
            "[nltk_data]    |     /root/nltk_data...\n",
            "[nltk_data]    |   Package problem_reports is already up-to-date!\n",
            "[nltk_data]    | Downloading package propbank to /root/nltk_data...\n",
            "[nltk_data]    |   Package propbank is already up-to-date!\n",
            "[nltk_data]    | Downloading package ptb to /root/nltk_data...\n",
            "[nltk_data]    |   Package ptb is already up-to-date!\n",
            "[nltk_data]    | Downloading package product_reviews_1 to\n",
            "[nltk_data]    |     /root/nltk_data...\n",
            "[nltk_data]    |   Package product_reviews_1 is already up-to-date!\n",
            "[nltk_data]    | Downloading package product_reviews_2 to\n",
            "[nltk_data]    |     /root/nltk_data...\n",
            "[nltk_data]    |   Package product_reviews_2 is already up-to-date!\n",
            "[nltk_data]    | Downloading package pros_cons to /root/nltk_data...\n",
            "[nltk_data]    |   Package pros_cons is already up-to-date!\n",
            "[nltk_data]    | Downloading package qc to /root/nltk_data...\n",
            "[nltk_data]    |   Package qc is already up-to-date!\n",
            "[nltk_data]    | Downloading package reuters to /root/nltk_data...\n",
            "[nltk_data]    |   Package reuters is already up-to-date!\n",
            "[nltk_data]    | Downloading package rte to /root/nltk_data...\n",
            "[nltk_data]    |   Package rte is already up-to-date!\n",
            "[nltk_data]    | Downloading package semcor to /root/nltk_data...\n",
            "[nltk_data]    |   Package semcor is already up-to-date!\n",
            "[nltk_data]    | Downloading package senseval to /root/nltk_data...\n",
            "[nltk_data]    |   Package senseval is already up-to-date!\n",
            "[nltk_data]    | Downloading package sentiwordnet to\n",
            "[nltk_data]    |     /root/nltk_data...\n",
            "[nltk_data]    |   Package sentiwordnet is already up-to-date!\n",
            "[nltk_data]    | Downloading package sentence_polarity to\n",
            "[nltk_data]    |     /root/nltk_data...\n",
            "[nltk_data]    |   Package sentence_polarity is already up-to-date!\n",
            "[nltk_data]    | Downloading package shakespeare to /root/nltk_data...\n",
            "[nltk_data]    |   Package shakespeare is already up-to-date!\n",
            "[nltk_data]    | Downloading package sinica_treebank to\n",
            "[nltk_data]    |     /root/nltk_data...\n",
            "[nltk_data]    |   Package sinica_treebank is already up-to-date!\n",
            "[nltk_data]    | Downloading package smultron to /root/nltk_data...\n",
            "[nltk_data]    |   Package smultron is already up-to-date!\n",
            "[nltk_data]    | Downloading package state_union to /root/nltk_data...\n",
            "[nltk_data]    |   Package state_union is already up-to-date!\n",
            "[nltk_data]    | Downloading package stopwords to /root/nltk_data...\n",
            "[nltk_data]    |   Package stopwords is already up-to-date!\n",
            "[nltk_data]    | Downloading package subjectivity to\n",
            "[nltk_data]    |     /root/nltk_data...\n",
            "[nltk_data]    |   Package subjectivity is already up-to-date!\n",
            "[nltk_data]    | Downloading package swadesh to /root/nltk_data...\n",
            "[nltk_data]    |   Package swadesh is already up-to-date!\n",
            "[nltk_data]    | Downloading package switchboard to /root/nltk_data...\n",
            "[nltk_data]    |   Package switchboard is already up-to-date!\n",
            "[nltk_data]    | Downloading package timit to /root/nltk_data...\n",
            "[nltk_data]    |   Package timit is already up-to-date!\n",
            "[nltk_data]    | Downloading package toolbox to /root/nltk_data...\n",
            "[nltk_data]    |   Package toolbox is already up-to-date!\n",
            "[nltk_data]    | Downloading package treebank to /root/nltk_data...\n",
            "[nltk_data]    |   Package treebank is already up-to-date!\n",
            "[nltk_data]    | Downloading package twitter_samples to\n",
            "[nltk_data]    |     /root/nltk_data...\n",
            "[nltk_data]    |   Package twitter_samples is already up-to-date!\n",
            "[nltk_data]    | Downloading package udhr to /root/nltk_data...\n",
            "[nltk_data]    |   Package udhr is already up-to-date!\n",
            "[nltk_data]    | Downloading package udhr2 to /root/nltk_data...\n",
            "[nltk_data]    |   Package udhr2 is already up-to-date!\n",
            "[nltk_data]    | Downloading package unicode_samples to\n",
            "[nltk_data]    |     /root/nltk_data...\n",
            "[nltk_data]    |   Package unicode_samples is already up-to-date!\n",
            "[nltk_data]    | Downloading package universal_treebanks_v20 to\n",
            "[nltk_data]    |     /root/nltk_data...\n",
            "[nltk_data]    |   Package universal_treebanks_v20 is already up-to-\n",
            "[nltk_data]    |       date!\n",
            "[nltk_data]    | Downloading package verbnet to /root/nltk_data...\n",
            "[nltk_data]    |   Package verbnet is already up-to-date!\n",
            "[nltk_data]    | Downloading package verbnet3 to /root/nltk_data...\n",
            "[nltk_data]    |   Package verbnet3 is already up-to-date!\n",
            "[nltk_data]    | Downloading package webtext to /root/nltk_data...\n",
            "[nltk_data]    |   Package webtext is already up-to-date!\n",
            "[nltk_data]    | Downloading package wordnet to /root/nltk_data...\n",
            "[nltk_data]    |   Package wordnet is already up-to-date!\n",
            "[nltk_data]    | Downloading package wordnet_ic to /root/nltk_data...\n",
            "[nltk_data]    |   Package wordnet_ic is already up-to-date!\n",
            "[nltk_data]    | Downloading package words to /root/nltk_data...\n",
            "[nltk_data]    |   Package words is already up-to-date!\n",
            "[nltk_data]    | Downloading package ycoe to /root/nltk_data...\n",
            "[nltk_data]    |   Package ycoe is already up-to-date!\n",
            "[nltk_data]    | Downloading package rslp to /root/nltk_data...\n",
            "[nltk_data]    |   Package rslp is already up-to-date!\n",
            "[nltk_data]    | Downloading package maxent_treebank_pos_tagger to\n",
            "[nltk_data]    |     /root/nltk_data...\n",
            "[nltk_data]    |   Package maxent_treebank_pos_tagger is already up-\n",
            "[nltk_data]    |       to-date!\n",
            "[nltk_data]    | Downloading package universal_tagset to\n",
            "[nltk_data]    |     /root/nltk_data...\n",
            "[nltk_data]    |   Package universal_tagset is already up-to-date!\n",
            "[nltk_data]    | Downloading package maxent_ne_chunker to\n",
            "[nltk_data]    |     /root/nltk_data...\n",
            "[nltk_data]    |   Package maxent_ne_chunker is already up-to-date!\n",
            "[nltk_data]    | Downloading package punkt to /root/nltk_data...\n",
            "[nltk_data]    |   Package punkt is already up-to-date!\n",
            "[nltk_data]    | Downloading package book_grammars to\n",
            "[nltk_data]    |     /root/nltk_data...\n",
            "[nltk_data]    |   Package book_grammars is already up-to-date!\n",
            "[nltk_data]    | Downloading package sample_grammars to\n",
            "[nltk_data]    |     /root/nltk_data...\n",
            "[nltk_data]    |   Package sample_grammars is already up-to-date!\n",
            "[nltk_data]    | Downloading package spanish_grammars to\n",
            "[nltk_data]    |     /root/nltk_data...\n",
            "[nltk_data]    |   Package spanish_grammars is already up-to-date!\n",
            "[nltk_data]    | Downloading package basque_grammars to\n",
            "[nltk_data]    |     /root/nltk_data...\n",
            "[nltk_data]    |   Package basque_grammars is already up-to-date!\n",
            "[nltk_data]    | Downloading package large_grammars to\n",
            "[nltk_data]    |     /root/nltk_data...\n",
            "[nltk_data]    |   Package large_grammars is already up-to-date!\n",
            "[nltk_data]    | Downloading package tagsets to /root/nltk_data...\n",
            "[nltk_data]    |   Package tagsets is already up-to-date!\n",
            "[nltk_data]    | Downloading package snowball_data to\n",
            "[nltk_data]    |     /root/nltk_data...\n",
            "[nltk_data]    |   Package snowball_data is already up-to-date!\n",
            "[nltk_data]    | Downloading package bllip_wsj_no_aux to\n",
            "[nltk_data]    |     /root/nltk_data...\n",
            "[nltk_data]    |   Package bllip_wsj_no_aux is already up-to-date!\n",
            "[nltk_data]    | Downloading package word2vec_sample to\n",
            "[nltk_data]    |     /root/nltk_data...\n",
            "[nltk_data]    |   Package word2vec_sample is already up-to-date!\n",
            "[nltk_data]    | Downloading package panlex_swadesh to\n",
            "[nltk_data]    |     /root/nltk_data...\n",
            "[nltk_data]    |   Package panlex_swadesh is already up-to-date!\n",
            "[nltk_data]    | Downloading package mte_teip5 to /root/nltk_data...\n",
            "[nltk_data]    |   Package mte_teip5 is already up-to-date!\n",
            "[nltk_data]    | Downloading package averaged_perceptron_tagger to\n",
            "[nltk_data]    |     /root/nltk_data...\n",
            "[nltk_data]    |   Package averaged_perceptron_tagger is already up-\n",
            "[nltk_data]    |       to-date!\n",
            "[nltk_data]    | Downloading package averaged_perceptron_tagger_ru to\n",
            "[nltk_data]    |     /root/nltk_data...\n",
            "[nltk_data]    |   Package averaged_perceptron_tagger_ru is already\n",
            "[nltk_data]    |       up-to-date!\n",
            "[nltk_data]    | Downloading package perluniprops to\n",
            "[nltk_data]    |     /root/nltk_data...\n",
            "[nltk_data]    |   Package perluniprops is already up-to-date!\n",
            "[nltk_data]    | Downloading package nonbreaking_prefixes to\n",
            "[nltk_data]    |     /root/nltk_data...\n",
            "[nltk_data]    |   Package nonbreaking_prefixes is already up-to-date!\n",
            "[nltk_data]    | Downloading package vader_lexicon to\n",
            "[nltk_data]    |     /root/nltk_data...\n",
            "[nltk_data]    |   Package vader_lexicon is already up-to-date!\n",
            "[nltk_data]    | Downloading package porter_test to /root/nltk_data...\n",
            "[nltk_data]    |   Package porter_test is already up-to-date!\n",
            "[nltk_data]    | Downloading package wmt15_eval to /root/nltk_data...\n",
            "[nltk_data]    |   Package wmt15_eval is already up-to-date!\n",
            "[nltk_data]    | Downloading package mwa_ppdb to /root/nltk_data...\n",
            "[nltk_data]    |   Package mwa_ppdb is already up-to-date!\n",
            "[nltk_data]    | \n",
            "[nltk_data]  Done downloading collection all\n"
          ],
          "name": "stdout"
        },
        {
          "output_type": "execute_result",
          "data": {
            "text/plain": [
              "True"
            ]
          },
          "metadata": {
            "tags": []
          },
          "execution_count": 4
        }
      ]
    },
    {
      "cell_type": "code",
      "metadata": {
        "colab": {
          "base_uri": "https://localhost:8080/"
        },
        "id": "N_S6L8FJyj7x",
        "outputId": "81b3636d-3f41-4272-adf3-0f2086a30254"
      },
      "source": [
        "pip install fuzzywuzzy[speedup]"
      ],
      "execution_count": null,
      "outputs": [
        {
          "output_type": "stream",
          "text": [
            "Requirement already satisfied: fuzzywuzzy[speedup] in /usr/local/lib/python3.6/dist-packages (0.18.0)\n",
            "Collecting python-levenshtein>=0.12; extra == \"speedup\"\n",
            "\u001b[?25l  Downloading https://files.pythonhosted.org/packages/6b/ca/1a9d7115f233d929d4f25a4021795cd97cc89eeb82723ea98dd44390a530/python-Levenshtein-0.12.1.tar.gz (50kB)\n",
            "\u001b[K     |████████████████████████████████| 51kB 2.5MB/s \n",
            "\u001b[?25hRequirement already satisfied: setuptools in /usr/local/lib/python3.6/dist-packages (from python-levenshtein>=0.12; extra == \"speedup\"->fuzzywuzzy[speedup]) (51.1.2)\n",
            "Building wheels for collected packages: python-levenshtein\n",
            "  Building wheel for python-levenshtein (setup.py) ... \u001b[?25l\u001b[?25hdone\n",
            "  Created wheel for python-levenshtein: filename=python_Levenshtein-0.12.1-cp36-cp36m-linux_x86_64.whl size=149167 sha256=00b02603807814f947e17656f4460d96feeead506dfbb2fac1149f36058492db\n",
            "  Stored in directory: /root/.cache/pip/wheels/ae/69/ea/4798f98317cbab35d78fea64d36bd7b2b18faca88568ef15b0\n",
            "Successfully built python-levenshtein\n",
            "Installing collected packages: python-levenshtein\n",
            "Successfully installed python-levenshtein-0.12.1\n"
          ],
          "name": "stdout"
        }
      ]
    },
    {
      "cell_type": "code",
      "metadata": {
        "colab": {
          "base_uri": "https://localhost:8080/"
        },
        "id": "AOadHSvC9rM2",
        "outputId": "ad927b13-b7a3-4efe-c678-94d321dbfc24"
      },
      "source": [
        "pip install emoji"
      ],
      "execution_count": null,
      "outputs": [
        {
          "output_type": "stream",
          "text": [
            "Collecting emoji\n",
            "\u001b[?25l  Downloading https://files.pythonhosted.org/packages/ff/1c/1f1457fe52d0b30cbeebfd578483cedb3e3619108d2d5a21380dfecf8ffd/emoji-0.6.0.tar.gz (51kB)\n",
            "\r\u001b[K     |██████▍                         | 10kB 15.4MB/s eta 0:00:01\r\u001b[K     |████████████▉                   | 20kB 9.4MB/s eta 0:00:01\r\u001b[K     |███████████████████▎            | 30kB 7.1MB/s eta 0:00:01\r\u001b[K     |█████████████████████████▊      | 40kB 7.2MB/s eta 0:00:01\r\u001b[K     |████████████████████████████████| 51kB 2.6MB/s \n",
            "\u001b[?25hBuilding wheels for collected packages: emoji\n",
            "  Building wheel for emoji (setup.py) ... \u001b[?25l\u001b[?25hdone\n",
            "  Created wheel for emoji: filename=emoji-0.6.0-cp36-none-any.whl size=49717 sha256=3450fdccdcaee2665fade4c197dc302c4c1b63941480a659f932913d0721db0a\n",
            "  Stored in directory: /root/.cache/pip/wheels/46/2c/8b/9dcf5216ca68e14e0320e283692dce8ae321cdc01e73e17796\n",
            "Successfully built emoji\n",
            "Installing collected packages: emoji\n",
            "Successfully installed emoji-0.6.0\n"
          ],
          "name": "stdout"
        }
      ]
    },
    {
      "cell_type": "code",
      "metadata": {
        "id": "RPIGDDuu17DC"
      },
      "source": [
        "import pandas as pd\r\n",
        "import matplotlib.pyplot as plt\r\n",
        "import seaborn as sns\r\n",
        "import nltk\r\n",
        "from tqdm import tqdm\r\n",
        "import emoji\r\n",
        "from gensim.parsing.preprocessing import remove_stopwords\r\n",
        "import gensim\r\n",
        "import re\r\n",
        "from nltk.tokenize import word_tokenize\r\n",
        "from nltk.stem import WordNetLemmatizer\r\n",
        "from nltk import pos_tag\r\n",
        "from nltk.corpus import wordnet as wn\r\n",
        "from nltk.sentiment import SentimentIntensityAnalyzer\r\n",
        "from google_play_scraper import Sort, reviews\r\n",
        "sia=SentimentIntensityAnalyzer()"
      ],
      "execution_count": null,
      "outputs": []
    },
    {
      "cell_type": "code",
      "metadata": {
        "id": "KiAz8COS0Kkp"
      },
      "source": [
        "from google_play_scraper import Sort, reviews\r\n",
        "result, continuation_token = reviews('com.indiaBulls',lang='en',country='us',sort=Sort.NEWEST,count=300000)"
      ],
      "execution_count": null,
      "outputs": []
    },
    {
      "cell_type": "code",
      "metadata": {
        "id": "F5NaYdbw1eGl"
      },
      "source": [
        "df=pd.DataFrame.from_dict(result)"
      ],
      "execution_count": null,
      "outputs": []
    },
    {
      "cell_type": "code",
      "metadata": {
        "colab": {
          "base_uri": "https://localhost:8080/",
          "height": 484
        },
        "id": "108TWEbu1-qi",
        "outputId": "42b40d3d-8067-4940-baee-6d04cb0ceba2"
      },
      "source": [
        "df.head()"
      ],
      "execution_count": null,
      "outputs": [
        {
          "output_type": "execute_result",
          "data": {
            "text/html": [
              "<div>\n",
              "<style scoped>\n",
              "    .dataframe tbody tr th:only-of-type {\n",
              "        vertical-align: middle;\n",
              "    }\n",
              "\n",
              "    .dataframe tbody tr th {\n",
              "        vertical-align: top;\n",
              "    }\n",
              "\n",
              "    .dataframe thead th {\n",
              "        text-align: right;\n",
              "    }\n",
              "</style>\n",
              "<table border=\"1\" class=\"dataframe\">\n",
              "  <thead>\n",
              "    <tr style=\"text-align: right;\">\n",
              "      <th></th>\n",
              "      <th>reviewId</th>\n",
              "      <th>userName</th>\n",
              "      <th>userImage</th>\n",
              "      <th>content</th>\n",
              "      <th>score</th>\n",
              "      <th>thumbsUpCount</th>\n",
              "      <th>reviewCreatedVersion</th>\n",
              "      <th>at</th>\n",
              "      <th>replyContent</th>\n",
              "      <th>repliedAt</th>\n",
              "    </tr>\n",
              "  </thead>\n",
              "  <tbody>\n",
              "    <tr>\n",
              "      <th>0</th>\n",
              "      <td>gp:AOqpTOFC9xgkxp37WXIAKtUcW8Csg2smUEb8nXkhCWz...</td>\n",
              "      <td>Suhaan Barfi Khan</td>\n",
              "      <td>https://play-lh.googleusercontent.com/a-/AOh14...</td>\n",
              "      <td>I used my dhani card at two petrol pump pos it...</td>\n",
              "      <td>2</td>\n",
              "      <td>0</td>\n",
              "      <td>3.4.6</td>\n",
              "      <td>2021-01-21 12:23:12</td>\n",
              "      <td>None</td>\n",
              "      <td>NaT</td>\n",
              "    </tr>\n",
              "    <tr>\n",
              "      <th>1</th>\n",
              "      <td>gp:AOqpTOEnfzWDdNImH3HlrY5gaHeuK7fwOLO7aZ1iuML...</td>\n",
              "      <td>GAJANAN GAIKWAD</td>\n",
              "      <td>https://play-lh.googleusercontent.com/a-/AOh14...</td>\n",
              "      <td>Good But Customer Service No Provide,</td>\n",
              "      <td>2</td>\n",
              "      <td>0</td>\n",
              "      <td>3.4.6</td>\n",
              "      <td>2021-01-21 12:23:05</td>\n",
              "      <td>None</td>\n",
              "      <td>NaT</td>\n",
              "    </tr>\n",
              "    <tr>\n",
              "      <th>2</th>\n",
              "      <td>gp:AOqpTOFSS-4_QeB8GMCX8YYwwm8GoS1rlqnTxUtA3I6...</td>\n",
              "      <td>Struggler jatt</td>\n",
              "      <td>https://play-lh.googleusercontent.com/a-/AOh14...</td>\n",
              "      <td>Nice</td>\n",
              "      <td>5</td>\n",
              "      <td>0</td>\n",
              "      <td>3.4.6</td>\n",
              "      <td>2021-01-21 12:21:27</td>\n",
              "      <td>None</td>\n",
              "      <td>NaT</td>\n",
              "    </tr>\n",
              "    <tr>\n",
              "      <th>3</th>\n",
              "      <td>gp:AOqpTOGCmHfyZ5aunMnqs3wMayK_nH0HXBjx331fEpd...</td>\n",
              "      <td>Sandeep S</td>\n",
              "      <td>https://play-lh.googleusercontent.com/a-/AOh14...</td>\n",
              "      <td>Only one to saying Worst app</td>\n",
              "      <td>1</td>\n",
              "      <td>0</td>\n",
              "      <td>3.4.6</td>\n",
              "      <td>2021-01-21 12:15:05</td>\n",
              "      <td>None</td>\n",
              "      <td>NaT</td>\n",
              "    </tr>\n",
              "    <tr>\n",
              "      <th>4</th>\n",
              "      <td>gp:AOqpTOEH2cn_sq09eRUTD_zAauoy2U8ZMnsd7whJ3KM...</td>\n",
              "      <td>IBAN FF</td>\n",
              "      <td>https://play-lh.googleusercontent.com/-Y6_fKRJ...</td>\n",
              "      <td>Good app</td>\n",
              "      <td>5</td>\n",
              "      <td>0</td>\n",
              "      <td>3.4.6</td>\n",
              "      <td>2021-01-21 12:09:53</td>\n",
              "      <td>None</td>\n",
              "      <td>NaT</td>\n",
              "    </tr>\n",
              "  </tbody>\n",
              "</table>\n",
              "</div>"
            ],
            "text/plain": [
              "                                            reviewId  ... repliedAt\n",
              "0  gp:AOqpTOFC9xgkxp37WXIAKtUcW8Csg2smUEb8nXkhCWz...  ...       NaT\n",
              "1  gp:AOqpTOEnfzWDdNImH3HlrY5gaHeuK7fwOLO7aZ1iuML...  ...       NaT\n",
              "2  gp:AOqpTOFSS-4_QeB8GMCX8YYwwm8GoS1rlqnTxUtA3I6...  ...       NaT\n",
              "3  gp:AOqpTOGCmHfyZ5aunMnqs3wMayK_nH0HXBjx331fEpd...  ...       NaT\n",
              "4  gp:AOqpTOEH2cn_sq09eRUTD_zAauoy2U8ZMnsd7whJ3KM...  ...       NaT\n",
              "\n",
              "[5 rows x 10 columns]"
            ]
          },
          "metadata": {
            "tags": []
          },
          "execution_count": 17
        }
      ]
    },
    {
      "cell_type": "code",
      "metadata": {
        "id": "ybVxSkWt1_dG"
      },
      "source": [
        "df.drop(['reviewId','userName','userImage','thumbsUpCount','reviewCreatedVersion','replyContent','repliedAt'],axis=1,inplace=True)"
      ],
      "execution_count": null,
      "outputs": []
    },
    {
      "cell_type": "code",
      "metadata": {
        "colab": {
          "base_uri": "https://localhost:8080/",
          "height": 402
        },
        "id": "YMui3YIN2B51",
        "outputId": "3c21690e-2c9e-4313-a61e-d58dde69d678"
      },
      "source": [
        "df.sort_values(by='at')"
      ],
      "execution_count": null,
      "outputs": [
        {
          "output_type": "execute_result",
          "data": {
            "text/html": [
              "<div>\n",
              "<style scoped>\n",
              "    .dataframe tbody tr th:only-of-type {\n",
              "        vertical-align: middle;\n",
              "    }\n",
              "\n",
              "    .dataframe tbody tr th {\n",
              "        vertical-align: top;\n",
              "    }\n",
              "\n",
              "    .dataframe thead th {\n",
              "        text-align: right;\n",
              "    }\n",
              "</style>\n",
              "<table border=\"1\" class=\"dataframe\">\n",
              "  <thead>\n",
              "    <tr style=\"text-align: right;\">\n",
              "      <th></th>\n",
              "      <th>content</th>\n",
              "      <th>score</th>\n",
              "      <th>at</th>\n",
              "    </tr>\n",
              "  </thead>\n",
              "  <tbody>\n",
              "    <tr>\n",
              "      <th>299999</th>\n",
              "      <td>Very good service</td>\n",
              "      <td>5</td>\n",
              "      <td>2018-01-19 10:21:07</td>\n",
              "    </tr>\n",
              "    <tr>\n",
              "      <th>299998</th>\n",
              "      <td>It's very fast and nice</td>\n",
              "      <td>5</td>\n",
              "      <td>2018-01-19 10:41:10</td>\n",
              "    </tr>\n",
              "    <tr>\n",
              "      <th>299997</th>\n",
              "      <td>fake add 3minuts ₹5 lakh</td>\n",
              "      <td>1</td>\n",
              "      <td>2018-01-19 11:07:16</td>\n",
              "    </tr>\n",
              "    <tr>\n",
              "      <th>299996</th>\n",
              "      <td>Sbse bkwas app dekhi he mene sari Jankari lekr...</td>\n",
              "      <td>1</td>\n",
              "      <td>2018-01-19 11:08:45</td>\n",
              "    </tr>\n",
              "    <tr>\n",
              "      <th>299995</th>\n",
              "      <td>This fake app...</td>\n",
              "      <td>1</td>\n",
              "      <td>2018-01-19 11:13:26</td>\n",
              "    </tr>\n",
              "    <tr>\n",
              "      <th>...</th>\n",
              "      <td>...</td>\n",
              "      <td>...</td>\n",
              "      <td>...</td>\n",
              "    </tr>\n",
              "    <tr>\n",
              "      <th>4</th>\n",
              "      <td>Good app</td>\n",
              "      <td>5</td>\n",
              "      <td>2021-01-21 12:09:53</td>\n",
              "    </tr>\n",
              "    <tr>\n",
              "      <th>3</th>\n",
              "      <td>Only one to saying Worst app</td>\n",
              "      <td>1</td>\n",
              "      <td>2021-01-21 12:15:05</td>\n",
              "    </tr>\n",
              "    <tr>\n",
              "      <th>2</th>\n",
              "      <td>Nice</td>\n",
              "      <td>5</td>\n",
              "      <td>2021-01-21 12:21:27</td>\n",
              "    </tr>\n",
              "    <tr>\n",
              "      <th>1</th>\n",
              "      <td>Good But Customer Service No Provide,</td>\n",
              "      <td>2</td>\n",
              "      <td>2021-01-21 12:23:05</td>\n",
              "    </tr>\n",
              "    <tr>\n",
              "      <th>0</th>\n",
              "      <td>I used my dhani card at two petrol pump pos it...</td>\n",
              "      <td>2</td>\n",
              "      <td>2021-01-21 12:23:12</td>\n",
              "    </tr>\n",
              "  </tbody>\n",
              "</table>\n",
              "<p>300000 rows × 3 columns</p>\n",
              "</div>"
            ],
            "text/plain": [
              "                                                  content  ...                  at\n",
              "299999                                  Very good service  ... 2018-01-19 10:21:07\n",
              "299998                            It's very fast and nice  ... 2018-01-19 10:41:10\n",
              "299997                           fake add 3minuts ₹5 lakh  ... 2018-01-19 11:07:16\n",
              "299996  Sbse bkwas app dekhi he mene sari Jankari lekr...  ... 2018-01-19 11:08:45\n",
              "299995                                   This fake app...  ... 2018-01-19 11:13:26\n",
              "...                                                   ...  ...                 ...\n",
              "4                                                Good app  ... 2021-01-21 12:09:53\n",
              "3                            Only one to saying Worst app  ... 2021-01-21 12:15:05\n",
              "2                                                    Nice  ... 2021-01-21 12:21:27\n",
              "1                   Good But Customer Service No Provide,  ... 2021-01-21 12:23:05\n",
              "0       I used my dhani card at two petrol pump pos it...  ... 2021-01-21 12:23:12\n",
              "\n",
              "[300000 rows x 3 columns]"
            ]
          },
          "metadata": {
            "tags": []
          },
          "execution_count": 19
        }
      ]
    },
    {
      "cell_type": "code",
      "metadata": {
        "id": "PkhjEkzh2Cl7"
      },
      "source": [
        "import datetime\r\n",
        "x=datetime.datetime(2020,1,1)"
      ],
      "execution_count": null,
      "outputs": []
    },
    {
      "cell_type": "code",
      "metadata": {
        "id": "tGe9wCsf9afp"
      },
      "source": [
        "df=df.loc[df['at']>=x]"
      ],
      "execution_count": null,
      "outputs": []
    },
    {
      "cell_type": "code",
      "metadata": {
        "colab": {
          "base_uri": "https://localhost:8080/",
          "height": 17
        },
        "id": "VqW17xUf9eR6",
        "outputId": "f90cf8b7-4196-4bc2-f399-2deb07027832"
      },
      "source": [
        "from google.colab import files\r\n",
        "df.to_csv('Dhani_1year_21-01-21.csv')\r\n",
        "files.download('Dhani_1year_21-01-21.csv')"
      ],
      "execution_count": null,
      "outputs": [
        {
          "output_type": "display_data",
          "data": {
            "application/javascript": [
              "\n",
              "    async function download(id, filename, size) {\n",
              "      if (!google.colab.kernel.accessAllowed) {\n",
              "        return;\n",
              "      }\n",
              "      const div = document.createElement('div');\n",
              "      const label = document.createElement('label');\n",
              "      label.textContent = `Downloading \"${filename}\": `;\n",
              "      div.appendChild(label);\n",
              "      const progress = document.createElement('progress');\n",
              "      progress.max = size;\n",
              "      div.appendChild(progress);\n",
              "      document.body.appendChild(div);\n",
              "\n",
              "      const buffers = [];\n",
              "      let downloaded = 0;\n",
              "\n",
              "      const channel = await google.colab.kernel.comms.open(id);\n",
              "      // Send a message to notify the kernel that we're ready.\n",
              "      channel.send({})\n",
              "\n",
              "      for await (const message of channel.messages) {\n",
              "        // Send a message to notify the kernel that we're ready.\n",
              "        channel.send({})\n",
              "        if (message.buffers) {\n",
              "          for (const buffer of message.buffers) {\n",
              "            buffers.push(buffer);\n",
              "            downloaded += buffer.byteLength;\n",
              "            progress.value = downloaded;\n",
              "          }\n",
              "        }\n",
              "      }\n",
              "      const blob = new Blob(buffers, {type: 'application/binary'});\n",
              "      const a = document.createElement('a');\n",
              "      a.href = window.URL.createObjectURL(blob);\n",
              "      a.download = filename;\n",
              "      div.appendChild(a);\n",
              "      a.click();\n",
              "      div.remove();\n",
              "    }\n",
              "  "
            ],
            "text/plain": [
              "<IPython.core.display.Javascript object>"
            ]
          },
          "metadata": {
            "tags": []
          }
        },
        {
          "output_type": "display_data",
          "data": {
            "application/javascript": [
              "download(\"download_4e286639-d10f-4f0c-947f-c5188cfe52ff\", \"Dhani_1year_21-01-21.csv\", 17246932)"
            ],
            "text/plain": [
              "<IPython.core.display.Javascript object>"
            ]
          },
          "metadata": {
            "tags": []
          }
        }
      ]
    },
    {
      "cell_type": "code",
      "metadata": {
        "colab": {
          "base_uri": "https://localhost:8080/",
          "height": 195
        },
        "id": "TRB-lBvu98Hz",
        "outputId": "4dec2ca7-a938-4bbb-841b-7b6e4cc9dd0a"
      },
      "source": [
        "df.drop('at',axis=1,inplace=True)\r\n",
        "li=[]\r\n",
        "for st in tqdm(df.content):\r\n",
        "  st=str(st)\r\n",
        "  sent=emoji.demojize(st)\r\n",
        "  sent=sent.replace(':',' ')\r\n",
        "  sent=sent.replace('_',' ')\r\n",
        "  sent=sent.lower()\r\n",
        "  sent=re.sub(r\"[^A-Za-z ']\",'',sent)\r\n",
        "  sent=re.sub(r\"l...$\",'loan',sent)\r\n",
        "  sent=re.sub(r'a.p$','app',sent)\r\n",
        "  sent=remove_stopwords(sent)\r\n",
        "  li.append(sent)\r\n",
        "\r\n",
        "df['cleaned']=li\r\n",
        "df.head()"
      ],
      "execution_count": null,
      "outputs": [
        {
          "output_type": "execute_result",
          "data": {
            "text/html": [
              "<div>\n",
              "<style scoped>\n",
              "    .dataframe tbody tr th:only-of-type {\n",
              "        vertical-align: middle;\n",
              "    }\n",
              "\n",
              "    .dataframe tbody tr th {\n",
              "        vertical-align: top;\n",
              "    }\n",
              "\n",
              "    .dataframe thead th {\n",
              "        text-align: right;\n",
              "    }\n",
              "</style>\n",
              "<table border=\"1\" class=\"dataframe\">\n",
              "  <thead>\n",
              "    <tr style=\"text-align: right;\">\n",
              "      <th></th>\n",
              "      <th>content</th>\n",
              "      <th>score</th>\n",
              "      <th>cleaned</th>\n",
              "    </tr>\n",
              "  </thead>\n",
              "  <tbody>\n",
              "    <tr>\n",
              "      <th>0</th>\n",
              "      <td>I used my dhani card at two petrol pump pos it...</td>\n",
              "      <td>2</td>\n",
              "      <td>dhani card petrol pump pos showed insufficient...</td>\n",
              "    </tr>\n",
              "    <tr>\n",
              "      <th>1</th>\n",
              "      <td>Good But Customer Service No Provide,</td>\n",
              "      <td>2</td>\n",
              "      <td>good customer service provide</td>\n",
              "    </tr>\n",
              "    <tr>\n",
              "      <th>2</th>\n",
              "      <td>Nice</td>\n",
              "      <td>5</td>\n",
              "      <td>nice</td>\n",
              "    </tr>\n",
              "    <tr>\n",
              "      <th>3</th>\n",
              "      <td>Only one to saying Worst app</td>\n",
              "      <td>1</td>\n",
              "      <td>saying worst app</td>\n",
              "    </tr>\n",
              "    <tr>\n",
              "      <th>4</th>\n",
              "      <td>Good app</td>\n",
              "      <td>5</td>\n",
              "      <td>good app</td>\n",
              "    </tr>\n",
              "  </tbody>\n",
              "</table>\n",
              "</div>"
            ],
            "text/plain": [
              "                                             content  ...                                            cleaned\n",
              "0  I used my dhani card at two petrol pump pos it...  ...  dhani card petrol pump pos showed insufficient...\n",
              "1              Good But Customer Service No Provide,  ...                      good customer service provide\n",
              "2                                               Nice  ...                                               nice\n",
              "3                       Only one to saying Worst app  ...                                   saying worst app\n",
              "4                                           Good app  ...                                           good app\n",
              "\n",
              "[5 rows x 3 columns]"
            ]
          },
          "metadata": {
            "tags": []
          },
          "execution_count": 26
        }
      ]
    },
    {
      "cell_type": "code",
      "metadata": {
        "colab": {
          "base_uri": "https://localhost:8080/",
          "height": 34
        },
        "id": "mYAfdJ2L-Vg5",
        "outputId": "e322ddf4-8181-4097-a29c-ad9d5695445c"
      },
      "source": [
        "wnl=WordNetLemmatizer()\r\n",
        "def labeller(label):\r\n",
        "  if label=='J':\r\n",
        "    return wn.ADJ\r\n",
        "  elif label=='N':\r\n",
        "    return wn.NOUN\r\n",
        "  elif label=='V':\r\n",
        "    return wn.VERB\r\n",
        "  elif label=='R':\r\n",
        "    return wn.ADV\r\n",
        "lm=[]\r\n",
        "wvex=[]\r\n",
        "for sent in tqdm(df.cleaned):\r\n",
        "  sent=str(sent)\r\n",
        "  toks=word_tokenize(sent)\r\n",
        "  for tok in toks:\r\n",
        "    pos_l=pos_tag(word_tokenize(tok))\r\n",
        "    label=pos_l[0][1][0]\r\n",
        "    pos=labeller(label)\r\n",
        "    try:\r\n",
        "      lemm=wnl.lemmatize(tok,pos)\r\n",
        "    except:\r\n",
        "      lemm=wnl.lemmatize(tok)\r\n",
        "    lm.append(lemm)\r\n",
        "  wvex.append(lm)\r\n",
        "  lm=[]\r\n",
        "df['word__vec']=wvex\r\n",
        "df.head()\r\n",
        "df.to_csv('Dhani_1year_2021-01-21 18:16:08.csv')\r\n",
        "files.download('Dhani_1year_2021-01-21 18:16:08.csv')"
      ],
      "execution_count": null,
      "outputs": [
        {
          "output_type": "stream",
          "text": [
            "100%|██████████| 186080/186080 [05:24<00:00, 573.19it/s]\n"
          ],
          "name": "stderr"
        },
        {
          "output_type": "display_data",
          "data": {
            "application/javascript": [
              "\n",
              "    async function download(id, filename, size) {\n",
              "      if (!google.colab.kernel.accessAllowed) {\n",
              "        return;\n",
              "      }\n",
              "      const div = document.createElement('div');\n",
              "      const label = document.createElement('label');\n",
              "      label.textContent = `Downloading \"${filename}\": `;\n",
              "      div.appendChild(label);\n",
              "      const progress = document.createElement('progress');\n",
              "      progress.max = size;\n",
              "      div.appendChild(progress);\n",
              "      document.body.appendChild(div);\n",
              "\n",
              "      const buffers = [];\n",
              "      let downloaded = 0;\n",
              "\n",
              "      const channel = await google.colab.kernel.comms.open(id);\n",
              "      // Send a message to notify the kernel that we're ready.\n",
              "      channel.send({})\n",
              "\n",
              "      for await (const message of channel.messages) {\n",
              "        // Send a message to notify the kernel that we're ready.\n",
              "        channel.send({})\n",
              "        if (message.buffers) {\n",
              "          for (const buffer of message.buffers) {\n",
              "            buffers.push(buffer);\n",
              "            downloaded += buffer.byteLength;\n",
              "            progress.value = downloaded;\n",
              "          }\n",
              "        }\n",
              "      }\n",
              "      const blob = new Blob(buffers, {type: 'application/binary'});\n",
              "      const a = document.createElement('a');\n",
              "      a.href = window.URL.createObjectURL(blob);\n",
              "      a.download = filename;\n",
              "      div.appendChild(a);\n",
              "      a.click();\n",
              "      div.remove();\n",
              "    }\n",
              "  "
            ],
            "text/plain": [
              "<IPython.core.display.Javascript object>"
            ]
          },
          "metadata": {
            "tags": []
          }
        },
        {
          "output_type": "display_data",
          "data": {
            "application/javascript": [
              "download(\"download_1783e2e5-75f2-4549-b701-80098d09487c\", \"Dhani_1year_2021-01-21 18:16:08.csv\", 33345601)"
            ],
            "text/plain": [
              "<IPython.core.display.Javascript object>"
            ]
          },
          "metadata": {
            "tags": []
          }
        }
      ]
    },
    {
      "cell_type": "code",
      "metadata": {
        "colab": {
          "base_uri": "https://localhost:8080/",
          "height": 343
        },
        "id": "Fq37b2O6_SDW",
        "outputId": "99a4829d-334d-4f87-dce3-dcc683da648b"
      },
      "source": [
        "df.head(10)"
      ],
      "execution_count": null,
      "outputs": [
        {
          "output_type": "execute_result",
          "data": {
            "text/html": [
              "<div>\n",
              "<style scoped>\n",
              "    .dataframe tbody tr th:only-of-type {\n",
              "        vertical-align: middle;\n",
              "    }\n",
              "\n",
              "    .dataframe tbody tr th {\n",
              "        vertical-align: top;\n",
              "    }\n",
              "\n",
              "    .dataframe thead th {\n",
              "        text-align: right;\n",
              "    }\n",
              "</style>\n",
              "<table border=\"1\" class=\"dataframe\">\n",
              "  <thead>\n",
              "    <tr style=\"text-align: right;\">\n",
              "      <th></th>\n",
              "      <th>content</th>\n",
              "      <th>score</th>\n",
              "      <th>cleaned</th>\n",
              "      <th>word__vec</th>\n",
              "    </tr>\n",
              "  </thead>\n",
              "  <tbody>\n",
              "    <tr>\n",
              "      <th>0</th>\n",
              "      <td>I used my dhani card at two petrol pump pos it...</td>\n",
              "      <td>2</td>\n",
              "      <td>dhani card petrol pump pos showed insufficient...</td>\n",
              "      <td>[dhani, card, petrol, pump, po, show, insuffic...</td>\n",
              "    </tr>\n",
              "    <tr>\n",
              "      <th>1</th>\n",
              "      <td>Good But Customer Service No Provide,</td>\n",
              "      <td>2</td>\n",
              "      <td>good customer service provide</td>\n",
              "      <td>[good, customer, service, provide]</td>\n",
              "    </tr>\n",
              "    <tr>\n",
              "      <th>2</th>\n",
              "      <td>Nice</td>\n",
              "      <td>5</td>\n",
              "      <td>nice</td>\n",
              "      <td>[nice]</td>\n",
              "    </tr>\n",
              "    <tr>\n",
              "      <th>3</th>\n",
              "      <td>Only one to saying Worst app</td>\n",
              "      <td>1</td>\n",
              "      <td>saying worst app</td>\n",
              "      <td>[say, bad, app]</td>\n",
              "    </tr>\n",
              "    <tr>\n",
              "      <th>4</th>\n",
              "      <td>Good app</td>\n",
              "      <td>5</td>\n",
              "      <td>good app</td>\n",
              "      <td>[good, app]</td>\n",
              "    </tr>\n",
              "    <tr>\n",
              "      <th>5</th>\n",
              "      <td>Ford Application I am order the card but card ...</td>\n",
              "      <td>1</td>\n",
              "      <td>ford application order card card receive accou...</td>\n",
              "      <td>[ford, application, order, card, card, receive...</td>\n",
              "    </tr>\n",
              "    <tr>\n",
              "      <th>6</th>\n",
              "      <td>Nice</td>\n",
              "      <td>5</td>\n",
              "      <td>nice</td>\n",
              "      <td>[nice]</td>\n",
              "    </tr>\n",
              "    <tr>\n",
              "      <th>7</th>\n",
              "      <td>When I am activating my digital card it showin...</td>\n",
              "      <td>1</td>\n",
              "      <td>activating digital card showing activated</td>\n",
              "      <td>[activate, digital, card, show, activate]</td>\n",
              "    </tr>\n",
              "    <tr>\n",
              "      <th>8</th>\n",
              "      <td>Very very worst.app is dead slow.i tried all t...</td>\n",
              "      <td>1</td>\n",
              "      <td>worstapp dead slowi tried transactions wrongso...</td>\n",
              "      <td>[worstapp, dead, slowi, try, transaction, wron...</td>\n",
              "    </tr>\n",
              "    <tr>\n",
              "      <th>9</th>\n",
              "      <td>Time waste annesary I applied loan but they di...</td>\n",
              "      <td>5</td>\n",
              "      <td>time waste annesary applied loan didn't given ...</td>\n",
              "      <td>[time, waste, annesary, apply, loan, do, n't, ...</td>\n",
              "    </tr>\n",
              "  </tbody>\n",
              "</table>\n",
              "</div>"
            ],
            "text/plain": [
              "                                             content  ...                                          word__vec\n",
              "0  I used my dhani card at two petrol pump pos it...  ...  [dhani, card, petrol, pump, po, show, insuffic...\n",
              "1              Good But Customer Service No Provide,  ...                 [good, customer, service, provide]\n",
              "2                                               Nice  ...                                             [nice]\n",
              "3                       Only one to saying Worst app  ...                                    [say, bad, app]\n",
              "4                                           Good app  ...                                        [good, app]\n",
              "5  Ford Application I am order the card but card ...  ...  [ford, application, order, card, card, receive...\n",
              "6                                               Nice  ...                                             [nice]\n",
              "7  When I am activating my digital card it showin...  ...          [activate, digital, card, show, activate]\n",
              "8  Very very worst.app is dead slow.i tried all t...  ...  [worstapp, dead, slowi, try, transaction, wron...\n",
              "9  Time waste annesary I applied loan but they di...  ...  [time, waste, annesary, apply, loan, do, n't, ...\n",
              "\n",
              "[10 rows x 4 columns]"
            ]
          },
          "metadata": {
            "tags": []
          },
          "execution_count": 29
        }
      ]
    },
    {
      "cell_type": "code",
      "metadata": {
        "colab": {
          "base_uri": "https://localhost:8080/"
        },
        "id": "c_gGnZ7cA3eI",
        "outputId": "7b2c8a54-0a25-41a3-940a-36ac2025506b"
      },
      "source": [
        "df.count()"
      ],
      "execution_count": null,
      "outputs": [
        {
          "output_type": "execute_result",
          "data": {
            "text/plain": [
              "content      186080\n",
              "score        186080\n",
              "cleaned      186080\n",
              "word__vec    186080\n",
              "dtype: int64"
            ]
          },
          "metadata": {
            "tags": []
          },
          "execution_count": 30
        }
      ]
    },
    {
      "cell_type": "code",
      "metadata": {
        "colab": {
          "base_uri": "https://localhost:8080/"
        },
        "id": "-fGdVxvFCZ6o",
        "outputId": "ff1071ab-711c-4c54-a2e5-54041180b566"
      },
      "source": [
        "sentences=[]\r\n",
        "count=0\r\n",
        "for toks in tqdm(df.word__vec):\r\n",
        "  if len(toks)>4:\r\n",
        "    sentences.append(toks)\r\n",
        "    count+=1\r\n",
        "print(count)\r\n",
        "wwv=gensim.models.Word2Vec(sentences,min_count=1,size=100,window=4)\r\n",
        "wwv.wv.most_similar(positive=['interest','rate','high'],topn=40)"
      ],
      "execution_count": null,
      "outputs": [
        {
          "output_type": "stream",
          "text": [
            "100%|██████████| 186080/186080 [00:00<00:00, 1583180.02it/s]\n"
          ],
          "name": "stderr"
        },
        {
          "output_type": "stream",
          "text": [
            "78285\n"
          ],
          "name": "stdout"
        },
        {
          "output_type": "execute_result",
          "data": {
            "text/plain": [
              "[('low', 0.8593831062316895),\n",
              " ('rat', 0.8349336981773376),\n",
              " ('competitive', 0.8322534561157227),\n",
              " ('compare', 0.8271749019622803),\n",
              " ('vharges', 0.8201342225074768),\n",
              " ('huge', 0.8200268149375916),\n",
              " ('cheap', 0.8121854662895203),\n",
              " ('intrest', 0.805206298828125),\n",
              " ('cost', 0.7972724437713623),\n",
              " ('reasonable', 0.7960619330406189),\n",
              " ('dhanipersonalloaninterest', 0.787317156791687),\n",
              " ('roi', 0.7785361409187317),\n",
              " ('percent', 0.7613836526870728),\n",
              " ('moneyview', 0.7608870267868042),\n",
              " ('affordable', 0.7555391788482666),\n",
              " ('interesti', 0.7491728067398071),\n",
              " ('jhada', 0.7487687468528748),\n",
              " ('dcentinterest', 0.7480078935623169),\n",
              " ('offering', 0.7470977306365967),\n",
              " ('chief', 0.7466021776199341),\n",
              " ('denomination', 0.745773434638977),\n",
              " ('neck', 0.7445018291473389),\n",
              " ('accord', 0.7434502840042114),\n",
              " ('benefit', 0.7426939606666565),\n",
              " ('thrs', 0.7358570694923401),\n",
              " ('decent', 0.7355939149856567),\n",
              " ('intress', 0.7337446212768555),\n",
              " ('palanty', 0.7321503162384033),\n",
              " ('acceptation', 0.7315616607666016),\n",
              " ('interested', 0.730925440788269),\n",
              " ('chiepest', 0.7286357879638672),\n",
              " ('value', 0.7277530431747437),\n",
              " ('oneofakind', 0.7270382642745972),\n",
              " ('future', 0.7239851951599121),\n",
              " ('quality', 0.7232974171638489),\n",
              " ('emls', 0.7225680351257324),\n",
              " ('lesssuch', 0.7225366830825806),\n",
              " ('dhali', 0.7224313020706177),\n",
              " ('bouncei', 0.721545934677124),\n",
              " ('worldany', 0.7208654880523682)]"
            ]
          },
          "metadata": {
            "tags": []
          },
          "execution_count": 37
        }
      ]
    },
    {
      "cell_type": "code",
      "metadata": {
        "id": "3Pdg2vpFCn9j"
      },
      "source": [
        "total=count"
      ],
      "execution_count": null,
      "outputs": []
    },
    {
      "cell_type": "code",
      "metadata": {
        "colab": {
          "base_uri": "https://localhost:8080/"
        },
        "id": "lxaVbVqtGtYm",
        "outputId": "b4bc2dc7-2acb-488c-ae05-f9b04fa16aa1"
      },
      "source": [
        "i=0\r\n",
        "for sent in df['cleaned']:\r\n",
        "  print(sent)\r\n",
        "  i+=1\r\n",
        "  if i==5:\r\n",
        "    break"
      ],
      "execution_count": null,
      "outputs": [
        {
          "output_type": "stream",
          "text": [
            "dhani card petrol pump pos showed insufficient balance balance wallet got stucked worst experience\n",
            "good customer service provide\n",
            "nice\n",
            "saying worst app\n",
            "good app\n"
          ],
          "name": "stdout"
        }
      ]
    },
    {
      "cell_type": "code",
      "metadata": {
        "colab": {
          "base_uri": "https://localhost:8080/",
          "height": 348
        },
        "id": "A3Aw5AeiEaAe",
        "outputId": "7d52f198-5326-4878-e847-44d214182497"
      },
      "source": [
        "from fuzzywuzzy import fuzz\r\n",
        "from nltk.tokenize import word_tokenize\r\n",
        "ind=0\r\n",
        "count=0\r\n",
        "review_about_A1=''\r\n",
        "li_A1=[]\r\n",
        "for sent in tqdm(df['cleaned']):\r\n",
        "  sent=str(sent)\r\n",
        "  toks=word_tokenize(sent)\r\n",
        "  if  (fuzz.partial_token_set_ratio('interest rate',sent)>90) or (fuzz.token_set_ratio('loan rate',sent)>90)or (fuzz.token_set_ratio('high interest rate',sent)>90)or (fuzz.token_set_ratio('low interest rate',sent)>90):\r\n",
        "    ind=1\r\n",
        "  for tok in toks:\r\n",
        "    if (fuzz.ratio('interest',tok)>80) or (fuzz.ratio('rate',tok)>=80) :\r\n",
        "      ind=1\r\n",
        "  if ind==1:\r\n",
        "    count+=1\r\n",
        "    review_about_A1=review_about_A1+sent+' '\r\n",
        "    li_A1.append(sent)\r\n",
        "  ind=0\r\n",
        "\r\n",
        "print('\\n',count)\r\n",
        "print(count/total)\r\n",
        "dic=sia.polarity_scores(review_about_A1)\r\n",
        "print(dic)\r\n",
        "values=[dic['pos'],dic['neg']]\r\n",
        "keys=['Positive','Negative']\r\n",
        "g=sns.barplot(x=keys,y=values)\r\n",
        "g.set(ylim=(0,1))\r\n",
        "plt.title('Sentiment of users about interest rate')\r\n",
        "plt.show()"
      ],
      "execution_count": null,
      "outputs": [
        {
          "output_type": "stream",
          "text": [
            "100%|██████████| 186080/186080 [00:51<00:00, 3626.73it/s]\n"
          ],
          "name": "stderr"
        },
        {
          "output_type": "stream",
          "text": [
            "\n",
            " 3490\n",
            "0.044580698729003\n"
          ],
          "name": "stdout"
        },
        {
          "output_type": "display_data",
          "data": {
            "image/png": "[encoded data removed]",
            "text/plain": [
              "<Figure size 432x288 with 1 Axes>"
            ]
          },
          "metadata": {
            "tags": [],
            "needs_background": "light"
          }
        }
      ]
    },
    {
      "cell_type": "code",
      "metadata": {
        "colab": {
          "base_uri": "https://localhost:8080/"
        },
        "id": "cbYr2oxnGRPp",
        "outputId": "a8886773-63cc-460d-b42c-fc8f48d84bf6"
      },
      "source": [
        "print(dic)"
      ],
      "execution_count": null,
      "outputs": [
        {
          "output_type": "stream",
          "text": [
            "{'neg': 0.127, 'neu': 0.57, 'pos': 0.303, 'compound': 1.0}\n"
          ],
          "name": "stdout"
        }
      ]
    },
    {
      "cell_type": "code",
      "metadata": {
        "id": "OSl93-0ZGo5_"
      },
      "source": [
        "t=186080"
      ],
      "execution_count": null,
      "outputs": []
    },
    {
      "cell_type": "code",
      "metadata": {
        "colab": {
          "base_uri": "https://localhost:8080/"
        },
        "id": "ij3svnXAIzcZ",
        "outputId": "e7d866f0-4c97-42e1-c0b8-3fff54ae1f29"
      },
      "source": [
        "df.count()"
      ],
      "execution_count": null,
      "outputs": [
        {
          "output_type": "execute_result",
          "data": {
            "text/plain": [
              "content      186080\n",
              "score        186080\n",
              "cleaned      186080\n",
              "word__vec    186080\n",
              "dtype: int64"
            ]
          },
          "metadata": {
            "tags": []
          },
          "execution_count": 48
        }
      ]
    },
    {
      "cell_type": "code",
      "metadata": {
        "colab": {
          "base_uri": "https://localhost:8080/",
          "height": 366
        },
        "id": "79Tk7EjKI0Ic",
        "outputId": "89d5301b-36bc-4e40-ac35-cd9219f04343"
      },
      "source": [
        "sum_rating_A1=0\r\n",
        "count=0\r\n",
        "for i in tqdm(range(t)):\r\n",
        "  sent=str(df.cleaned[i])\r\n",
        "  toks=word_tokenize(sent)\r\n",
        "  if  (fuzz.partial_token_set_ratio('interest rate',sent)>90) or (fuzz.token_set_ratio('loan rate',sent)>90)or (fuzz.token_set_ratio('high interest rate',sent)>90)or (fuzz.token_set_ratio('low interest rate',sent)>90):\r\n",
        "    ind=1\r\n",
        "  for tok in toks:\r\n",
        "    if (fuzz.ratio('interest',tok)>80) or (fuzz.ratio('rate',tok)>=80):\r\n",
        "      ind=1\r\n",
        "  if ind==1:\r\n",
        "    sum_rating_A1+=df.score[i]\r\n",
        "    count+=1\r\n",
        "  ind=0 \r\n",
        "print(count,sum_rating_A1)\r\n",
        "print(sum_rating_A1/count)\r\n",
        "pie=sum_rating_A1/count\r\n",
        "pi=[pie,(5-pie)]\r\n",
        "plt.pie(pi,colors=['green','red'])"
      ],
      "execution_count": null,
      "outputs": [
        {
          "output_type": "stream",
          "text": [
            "100%|██████████| 186080/186080 [00:57<00:00, 3236.55it/s]"
          ],
          "name": "stderr"
        },
        {
          "output_type": "stream",
          "text": [
            "3490 12456\n",
            "3.569054441260745\n"
          ],
          "name": "stdout"
        },
        {
          "output_type": "stream",
          "text": [
            "\n"
          ],
          "name": "stderr"
        },
        {
          "output_type": "execute_result",
          "data": {
            "text/plain": [
              "([<matplotlib.patches.Wedge at 0x7f9cb6c03828>,\n",
              "  <matplotlib.patches.Wedge at 0x7f9cb6c03d68>],\n",
              " [Text(-0.684555053631843, 0.8610368044091408, ''),\n",
              "  Text(0.6845549730157566, -0.8610368685018064, '')])"
            ]
          },
          "metadata": {
            "tags": []
          },
          "execution_count": 50
        },
        {
          "output_type": "display_data",
          "data": {
            "image/png": "[encoded data removed]",
            "text/plain": [
              "<Figure size 432x288 with 1 Axes>"
            ]
          },
          "metadata": {
            "tags": []
          }
        }
      ]
    },
    {
      "cell_type": "code",
      "metadata": {
        "colab": {
          "base_uri": "https://localhost:8080/",
          "height": 366
        },
        "id": "LHrLFHztJTQA",
        "outputId": "7f29e3c6-2f15-4144-9064-9b7a45ac73a6"
      },
      "source": [
        "sum_rating_A1=0\r\n",
        "count=0\r\n",
        "for i in tqdm(range(t)):\r\n",
        "  sent=str(df.cleaned[i])\r\n",
        "  toks=word_tokenize(sent)\r\n",
        "  if  (fuzz.token_set_ratio('interest rate',sent)>90) or (fuzz.token_set_ratio('loan rate',sent)>90)or (fuzz.token_set_ratio('high interest rate',sent)>90)or (fuzz.token_set_ratio('low interest rate',sent)>90):\r\n",
        "    ind=1\r\n",
        "  for tok in toks:\r\n",
        "    if (fuzz.ratio('interest',tok)>80) or (fuzz.ratio('rate',tok)>=80):\r\n",
        "      ind=1\r\n",
        "  if ind==1:\r\n",
        "    sum_rating_A1+=df.score[i]\r\n",
        "    count+=1\r\n",
        "  ind=0 \r\n",
        "print(count,sum_rating_A1)\r\n",
        "print(sum_rating_A1/count)\r\n",
        "pie=sum_rating_A1/count\r\n",
        "pi=[pie,(5-pie)]\r\n",
        "plt.pie(pi,colors=['green','red'])"
      ],
      "execution_count": null,
      "outputs": [
        {
          "output_type": "stream",
          "text": [
            "100%|██████████| 186080/186080 [00:53<00:00, 3493.45it/s]\n"
          ],
          "name": "stderr"
        },
        {
          "output_type": "stream",
          "text": [
            "3451 12313\n",
            "3.5679513184584177\n"
          ],
          "name": "stdout"
        },
        {
          "output_type": "execute_result",
          "data": {
            "text/plain": [
              "([<matplotlib.patches.Wedge at 0x7f9cb6bca0b8>,\n",
              "  <matplotlib.patches.Wedge at 0x7f9cb6bca5f8>],\n",
              " [Text(-0.6839581690375179, 0.8615110115412608, ''),\n",
              "  Text(0.6839581690375178, -0.8615110115412608, '')])"
            ]
          },
          "metadata": {
            "tags": []
          },
          "execution_count": 51
        },
        {
          "output_type": "display_data",
          "data": {
            "image/png": "[encoded data removed]",
            "text/plain": [
              "<Figure size 432x288 with 1 Axes>"
            ]
          },
          "metadata": {
            "tags": []
          }
        }
      ]
    },
    {
      "cell_type": "code",
      "metadata": {
        "colab": {
          "base_uri": "https://localhost:8080/",
          "height": 314
        },
        "id": "mzXilwJzJ64N",
        "outputId": "78efc5fd-d644-485e-941e-8e5e51ec412b"
      },
      "source": [
        "pos,neg=0,0\r\n",
        "for sent in tqdm(li_A1):\r\n",
        "  dic=sia.polarity_scores(sent)\r\n",
        "  if dic['pos']>0:\r\n",
        "    pos+=1\r\n",
        "  if dic['neg']>0:\r\n",
        "    neg+=1\r\n",
        "print(pos,neg)\r\n",
        "values=[(pos/(pos+neg))*100,(neg/(neg+pos)*100)]\r\n",
        "keys=['% positive','% negative']\r\n",
        "g=sns.barplot(x=keys,y=values)\r\n",
        "g.set(ylim=(0,100))\r\n",
        "plt.title('Numeric comparison of Sentiment analysis')\r\n",
        "plt.show()"
      ],
      "execution_count": null,
      "outputs": [
        {
          "output_type": "stream",
          "text": [
            "100%|██████████| 3490/3490 [00:00<00:00, 5038.14it/s]\n"
          ],
          "name": "stderr"
        },
        {
          "output_type": "stream",
          "text": [
            "2573 1258\n"
          ],
          "name": "stdout"
        },
        {
          "output_type": "display_data",
          "data": {
            "image/png": "[encoded data removed]",
            "text/plain": [
              "<Figure size 432x288 with 1 Axes>"
            ]
          },
          "metadata": {
            "tags": [],
            "needs_background": "light"
          }
        }
      ]
    },
    {
      "cell_type": "code",
      "metadata": {
        "colab": {
          "base_uri": "https://localhost:8080/",
          "height": 348
        },
        "id": "PinS8t_ULmmt",
        "outputId": "65384e1b-2b46-4b92-db6b-2bb5d82b96e5"
      },
      "source": [
        "low=0\r\n",
        "for sent in li_A1:\r\n",
        "  if ('low' in sent) or ('loanlow' in sent) or ('lowit' in sent) or ('lowest' in sent) or ('lower' in sent) or ('law' in sent) or('lowe' in sent):\r\n",
        "    low+=1\r\n",
        "print(low)\r\n",
        "high=0\r\n",
        "for sent in li_A1:\r\n",
        "  toks=word_tokenize(sent)\r\n",
        "  if (fuzz.token_set_ratio('high rate',sent)>90):\r\n",
        "    high+=1\r\n",
        "print(high)\r\n",
        "comp=0\r\n",
        "for sent in li_A1:\r\n",
        "  if ('comparing' in sent) or ('descent' in sent) or ('reasonable' in sent) or ('competitive' in sent) or ('genuine' in sent) or ('comparision' in sent) or ('worth' in sent):\r\n",
        "    comp+=1\r\n",
        "print(comp)\r\n",
        "li=[(low/(low+high+comp))*100,(high/(low+high+comp))*100,(comp/(low+high+comp))*100]\r\n",
        "print(li)\r\n",
        "key=['low','high','reasonable']\r\n",
        "g=sns.barplot(x=key,y=li)\r\n",
        "g.set(ylim=(0,100))\r\n",
        "plt.title('How many users are writing high/low/reasonable')\r\n",
        "plt.show()"
      ],
      "execution_count": null,
      "outputs": [
        {
          "output_type": "stream",
          "text": [
            "403\n",
            "319\n",
            "77\n",
            "[50.438047559449316, 39.92490613266583, 9.637046307884855]\n"
          ],
          "name": "stdout"
        },
        {
          "output_type": "display_data",
          "data": {
            "image/png": "[encoded data removed]",
            "text/plain": [
              "<Figure size 432x288 with 1 Axes>"
            ]
          },
          "metadata": {
            "tags": [],
            "needs_background": "light"
          }
        }
      ]
    },
    {
      "cell_type": "code",
      "metadata": {
        "colab": {
          "base_uri": "https://localhost:8080/"
        },
        "id": "Fk3-aDTNMUQq",
        "outputId": "32ed40b0-63db-4c09-bcff-2b24d1984a6d"
      },
      "source": [
        "wwv.wv.most_similar(positive=['emi'],topn=40)"
      ],
      "execution_count": null,
      "outputs": [
        {
          "output_type": "execute_result",
          "data": {
            "text/plain": [
              "[('installment', 0.8752925992012024),\n",
              " ('emis', 0.8355523347854614),\n",
              " ('due', 0.8054152131080627),\n",
              " ('th', 0.7817105054855347),\n",
              " ('overdue', 0.7742011547088623),\n",
              " ('date', 0.7720156311988831),\n",
              " ('remain', 0.7666980028152466),\n",
              " ('outstanding', 0.7642381191253662),\n",
              " ('penalty', 0.7611658573150635),\n",
              " ('emithank', 0.7609744071960449),\n",
              " ('amount', 0.7541785836219788),\n",
              " ('onlybut', 0.7540626525878906),\n",
              " ('manually', 0.7508944272994995),\n",
              " ('ec', 0.7477191686630249),\n",
              " ('cheque', 0.7455698847770691),\n",
              " ('june', 0.7417487502098083),\n",
              " ('july', 0.7412968873977661),\n",
              " ('repayment', 0.735490620136261),\n",
              " ('principle', 0.7268446087837219),\n",
              " ('august', 0.7252331972122192),\n",
              " ('instalment', 0.7226091623306274),\n",
              " ('twice', 0.7224116921424866),\n",
              " ('stetments', 0.7215321660041809),\n",
              " ('nd', 0.7197648286819458),\n",
              " ('april', 0.7171863913536072),\n",
              " ('updateits', 0.7166522145271301),\n",
              " ('lavied', 0.7164427042007446),\n",
              " ('payment', 0.716436505317688),\n",
              " ('feb', 0.7134344577789307),\n",
              " ('paid', 0.7123507857322693),\n",
              " ('chargestill', 0.71123206615448),\n",
              " ('march', 0.7111661434173584),\n",
              " ('month', 0.7108626365661621),\n",
              " ('regardless', 0.7102548480033875),\n",
              " ('reflect', 0.710029661655426),\n",
              " ('unneccery', 0.7083218097686768),\n",
              " ('auto', 0.7056640386581421),\n",
              " ('thobi', 0.7049251794815063),\n",
              " ('promptly', 0.7027593851089478),\n",
              " ('manualy', 0.7023093104362488)]"
            ]
          },
          "metadata": {
            "tags": []
          },
          "execution_count": 55
        }
      ]
    },
    {
      "cell_type": "code",
      "metadata": {
        "colab": {
          "base_uri": "https://localhost:8080/",
          "height": 365
        },
        "id": "Ezxz0832OuUa",
        "outputId": "c45ad4e1-b429-4d17-8641-53ae9674b84e"
      },
      "source": [
        "from fuzzywuzzy import fuzz\r\n",
        "from nltk.tokenize import word_tokenize\r\n",
        "ind=0\r\n",
        "count=0\r\n",
        "review_about_A2=''\r\n",
        "li_A2=[]\r\n",
        "for sent in tqdm(df['cleaned']):\r\n",
        "  sent=str(sent)\r\n",
        "  toks=word_tokenize(sent)\r\n",
        "  if  (fuzz.token_set_ratio('emi installment',sent)>90) or (fuzz.token_set_ratio('delayed instalment',sent)>90)or (fuzz.token_set_ratio('due payment emi',sent)>90)or (fuzz.token_set_ratio('emi installment',sent)>90):\r\n",
        "    ind=1\r\n",
        "  for tok in toks:\r\n",
        "    if (fuzz.ratio('emi',tok)>90) or (fuzz.ratio('installment',tok)>90)or (fuzz.ratio('overdue',tok)>90) or (fuzz.ratio('outstanding',tok)>90):\r\n",
        "      ind=1\r\n",
        "  if ind==1:\r\n",
        "    count+=1\r\n",
        "    review_about_A2=review_about_A2+sent+' '\r\n",
        "    li_A2.append(sent)\r\n",
        "  ind=0\r\n",
        "\r\n",
        "print('\\n',count)\r\n",
        "print(count/total)\r\n",
        "dic=sia.polarity_scores(review_about_A2)\r\n",
        "print(dic)\r\n",
        "values=[dic['pos'],dic['neg']]\r\n",
        "keys=['Positive','Negative']\r\n",
        "g=sns.barplot(x=keys,y=values)\r\n",
        "g.set(ylim=(0,1))\r\n",
        "plt.title('Sentiment of users about EMI')\r\n",
        "plt.show()"
      ],
      "execution_count": null,
      "outputs": [
        {
          "output_type": "stream",
          "text": [
            "100%|██████████| 186080/186080 [00:56<00:00, 3297.08it/s]\n"
          ],
          "name": "stderr"
        },
        {
          "output_type": "stream",
          "text": [
            "\n",
            " 5677\n",
            "0.07251708500989973\n",
            "{'neg': 0.158, 'neu': 0.67, 'pos': 0.172, 'compound': 1.0}\n"
          ],
          "name": "stdout"
        },
        {
          "output_type": "display_data",
          "data": {
            "image/png": "[encoded data removed]",
            "text/plain": [
              "<Figure size 432x288 with 1 Axes>"
            ]
          },
          "metadata": {
            "tags": [],
            "needs_background": "light"
          }
        }
      ]
    },
    {
      "cell_type": "code",
      "metadata": {
        "colab": {
          "base_uri": "https://localhost:8080/",
          "height": 365
        },
        "id": "Tkhdx9vWRBxy",
        "outputId": "7f95aeec-a01b-4ba8-ed0c-511563fa937a"
      },
      "source": [
        "from fuzzywuzzy import fuzz\r\n",
        "from nltk.tokenize import word_tokenize\r\n",
        "ind=0\r\n",
        "count=0\r\n",
        "review_about_A2=''\r\n",
        "li_A2=[]\r\n",
        "for sent in tqdm(df['cleaned']):\r\n",
        "  sent=str(sent)\r\n",
        "  toks=word_tokenize(sent)\r\n",
        "  if  (fuzz.token_set_ratio('emi installment',sent)>90) or (fuzz.token_set_ratio('delayed instalment',sent)>90)or (fuzz.token_set_ratio('due payment emi',sent)>90)or (fuzz.token_set_ratio('emi installment',sent)>90):\r\n",
        "    ind=1\r\n",
        "  for tok in toks:\r\n",
        "    if (fuzz.ratio('emi',tok)>90) or (fuzz.ratio('installment',tok)>90)or (fuzz.ratio('outstanding',tok)>90):\r\n",
        "      ind=1\r\n",
        "  if ind==1:\r\n",
        "    count+=1\r\n",
        "    review_about_A2=review_about_A2+sent+' '\r\n",
        "    li_A2.append(sent)\r\n",
        "  ind=0\r\n",
        "\r\n",
        "print('\\n',count)\r\n",
        "print(count/total)\r\n",
        "dic=sia.polarity_scores(review_about_A2)\r\n",
        "print(dic)\r\n",
        "values=[dic['pos'],dic['neg']]\r\n",
        "keys=['Positive','Negative']\r\n",
        "g=sns.barplot(x=keys,y=values)\r\n",
        "g.set(ylim=(0,1))\r\n",
        "plt.title('Sentiment of users about EMI')\r\n",
        "plt.show()"
      ],
      "execution_count": null,
      "outputs": [
        {
          "output_type": "stream",
          "text": [
            "100%|██████████| 186080/186080 [00:52<00:00, 3539.78it/s]\n"
          ],
          "name": "stderr"
        },
        {
          "output_type": "stream",
          "text": [
            "\n",
            " 5404\n",
            "0.06902982691447915\n",
            "{'neg': 0.155, 'neu': 0.669, 'pos': 0.176, 'compound': 1.0}\n"
          ],
          "name": "stdout"
        },
        {
          "output_type": "display_data",
          "data": {
            "image/png": "[encoded data removed]",
            "text/plain": [
              "<Figure size 432x288 with 1 Axes>"
            ]
          },
          "metadata": {
            "tags": [],
            "needs_background": "light"
          }
        }
      ]
    },
    {
      "cell_type": "code",
      "metadata": {
        "colab": {
          "base_uri": "https://localhost:8080/",
          "height": 366
        },
        "id": "hUBV1N2HWdAU",
        "outputId": "eab9cec7-9a6e-425b-feb9-eadf53a1f3ce"
      },
      "source": [
        "sum_rating_A2=0\r\n",
        "count=0\r\n",
        "for i in tqdm(range(t)):\r\n",
        "  sent=str(df.cleaned[i])\r\n",
        "  toks=word_tokenize(sent)\r\n",
        "  if (fuzz.token_set_ratio('emi installment',sent)>90) or (fuzz.token_set_ratio('delayed instalment',sent)>90)or (fuzz.token_set_ratio('due payment emi',sent)>90)or (fuzz.token_set_ratio('emi installment',sent)>90):\r\n",
        "    ind=1\r\n",
        "  for tok in toks:\r\n",
        "    if (fuzz.ratio('emi',tok)>90) or (fuzz.ratio('installment',tok)>90)or (fuzz.ratio('outstanding',tok)>90):\r\n",
        "      ind=1\r\n",
        "  if ind==1:\r\n",
        "    sum_rating_A2+=df.score[i]\r\n",
        "    count+=1\r\n",
        "  ind=0 \r\n",
        "print(count,sum_rating_A2)\r\n",
        "print(sum_rating_A2/count)\r\n",
        "pie=sum_rating_A2/count\r\n",
        "pi=[pie,(5-pie)]\r\n",
        "plt.pie(pi,colors=['green','red'])"
      ],
      "execution_count": null,
      "outputs": [
        {
          "output_type": "stream",
          "text": [
            "100%|██████████| 186080/186080 [00:58<00:00, 3195.21it/s]"
          ],
          "name": "stderr"
        },
        {
          "output_type": "stream",
          "text": [
            "5404 11954\n",
            "2.2120651369356032\n"
          ],
          "name": "stdout"
        },
        {
          "output_type": "stream",
          "text": [
            "\n"
          ],
          "name": "stderr"
        },
        {
          "output_type": "execute_result",
          "data": {
            "text/plain": [
              "([<matplotlib.patches.Wedge at 0x7f9cb6a16080>,\n",
              "  <matplotlib.patches.Wedge at 0x7f9cb6a165c0>],\n",
              " [Text(0.19792246552372347, 1.0820474562795344, ''),\n",
              "  Text(-0.1979224655237236, -1.0820474562795344, '')])"
            ]
          },
          "metadata": {
            "tags": []
          },
          "execution_count": 58
        },
        {
          "output_type": "display_data",
          "data": {
            "image/png": "[encoded data removed]",
            "text/plain": [
              "<Figure size 432x288 with 1 Axes>"
            ]
          },
          "metadata": {
            "tags": []
          }
        }
      ]
    },
    {
      "cell_type": "code",
      "metadata": {
        "colab": {
          "base_uri": "https://localhost:8080/",
          "height": 314
        },
        "id": "-T4-8zGgW7G3",
        "outputId": "cb6a266c-bf7f-46a0-9db5-4953160d8bc3"
      },
      "source": [
        "pos,neg=0,0\r\n",
        "for sent in tqdm(li_A2):\r\n",
        "  dic=sia.polarity_scores(sent)\r\n",
        "  if dic['pos']>0:\r\n",
        "    pos+=1\r\n",
        "  if dic['neg']>0:\r\n",
        "    neg+=1\r\n",
        "print(pos,neg)\r\n",
        "\r\n",
        "values=[(pos/(pos+neg))*100,(neg/(neg+pos)*100)]\r\n",
        "keys=['% positive','% negative']\r\n",
        "g=sns.barplot(x=keys,y=values)\r\n",
        "g.set(ylim=(0,100))\r\n",
        "plt.title('Numeric comparison of Sentiment analysis')\r\n",
        "plt.show()"
      ],
      "execution_count": null,
      "outputs": [
        {
          "output_type": "stream",
          "text": [
            "100%|██████████| 5404/5404 [00:01<00:00, 3142.06it/s]\n"
          ],
          "name": "stderr"
        },
        {
          "output_type": "stream",
          "text": [
            "3828 3540\n"
          ],
          "name": "stdout"
        },
        {
          "output_type": "display_data",
          "data": {
            "image/png": "[encoded data removed]",
            "text/plain": [
              "<Figure size 432x288 with 1 Axes>"
            ]
          },
          "metadata": {
            "tags": [],
            "needs_background": "light"
          }
        }
      ]
    },
    {
      "cell_type": "code",
      "metadata": {
        "colab": {
          "base_uri": "https://localhost:8080/",
          "height": 365
        },
        "id": "z8JRYYTmXsre",
        "outputId": "25c2cd68-05fd-4150-8118-79e6ce0db966"
      },
      "source": [
        "from fuzzywuzzy import fuzz\r\n",
        "from nltk.tokenize import word_tokenize\r\n",
        "ind=0\r\n",
        "count=0\r\n",
        "review_about_A3=''\r\n",
        "li_A3=[]\r\n",
        "for sent in tqdm(df['cleaned']):\r\n",
        "  sent=str(sent)\r\n",
        "  toks=word_tokenize(sent)\r\n",
        "  if  (fuzz.token_set_ratio('loyal but',sent)>80) or (fuzz.token_set_ratio('not giving loan',sent)>90)or (fuzz.token_set_ratio('not getting loan',sent)>90)or(fuzz.token_set_ratio('regular customer but not getting loan',sent)>80)or (fuzz.token_set_ratio('regualar customer blocked',sent)>80)or (fuzz.token_set_ratio('rejected application',sent)>90)or (fuzz.token_set_ratio('blocked user profile', sent)>80) or (fuzz.token_set_ratio('blocked account',sent)>80):\r\n",
        "    ind=1\r\n",
        "  for tok in toks:\r\n",
        "    if  (fuzz.ratio('loyal',tok)>=80) or (fuzz.ratio('regular',tok)>80)or (fuzz.ratio('rejected',tok)>90)or (fuzz.ratio('reapply',tok)>90)or (fuzz.ratio('blocked',tok)>90):\r\n",
        "      ind=1\r\n",
        "  if ind==1:\r\n",
        "    count+=1\r\n",
        "    review_about_A3=review_about_A3+sent+' '\r\n",
        "    li_A3.append(sent)\r\n",
        "  ind=0\r\n",
        "\r\n",
        "print('\\n',count)\r\n",
        "print(count/total)\r\n",
        "dic=sia.polarity_scores(review_about_A3)\r\n",
        "print(dic)\r\n",
        "values=[dic['pos'],dic['neg']]\r\n",
        "keys=['Positive','Negative']\r\n",
        "g=sns.barplot(x=keys,y=values)\r\n",
        "g.set(ylim=(0,1))\r\n",
        "plt.title('Sentiment of users about Loan rejection')\r\n",
        "plt.show()"
      ],
      "execution_count": null,
      "outputs": [
        {
          "output_type": "stream",
          "text": [
            "100%|██████████| 186080/186080 [01:17<00:00, 2398.30it/s]\n"
          ],
          "name": "stderr"
        },
        {
          "output_type": "stream",
          "text": [
            "\n",
            " 1399\n",
            "0.017870601009133295\n",
            "{'neg': 0.172, 'neu': 0.634, 'pos': 0.194, 'compound': 0.9999}\n"
          ],
          "name": "stdout"
        },
        {
          "output_type": "display_data",
          "data": {
            "image/png": "[encoded data removed]",
            "text/plain": [
              "<Figure size 432x288 with 1 Axes>"
            ]
          },
          "metadata": {
            "tags": [],
            "needs_background": "light"
          }
        }
      ]
    },
    {
      "cell_type": "code",
      "metadata": {
        "colab": {
          "base_uri": "https://localhost:8080/",
          "height": 366
        },
        "id": "iM94VoBGcT29",
        "outputId": "b20a37f3-7678-4fca-8843-508887fe8057"
      },
      "source": [
        "sum_rating_A3=0\r\n",
        "count=0\r\n",
        "for i in tqdm(range(t)):\r\n",
        "  sent=str(df.cleaned[i])\r\n",
        "  toks=word_tokenize(sent)\r\n",
        "  if  (fuzz.token_set_ratio('loyal but',sent)>80) or (fuzz.token_set_ratio('not giving loan',sent)>90)or (fuzz.token_set_ratio('not getting loan',sent)>90)or(fuzz.token_set_ratio('regular customer but not getting loan',sent)>80)or (fuzz.token_set_ratio('regualar customer blocked',sent)>80)or (fuzz.token_set_ratio('rejected application',sent)>90)or (fuzz.token_set_ratio('blocked user profile', sent)>80) or (fuzz.token_set_ratio('blocked account',sent)>80):\r\n",
        "    ind=1\r\n",
        "  for tok in toks:\r\n",
        "    if  (fuzz.ratio('loyal',tok)>=80) or (fuzz.ratio('regular',tok)>80)or (fuzz.ratio('rejected',tok)>90)or (fuzz.ratio('reapply',tok)>90)or (fuzz.ratio('blocked',tok)>90):\r\n",
        "      ind=1\r\n",
        "  if ind==1:\r\n",
        "    sum_rating_A3+=df.score[i]\r\n",
        "    count+=1\r\n",
        "  ind=0 \r\n",
        "print(count,sum_rating_A3)\r\n",
        "print(sum_rating_A3/count)\r\n",
        "pie=sum_rating_A3/count\r\n",
        "pi=[pie,(5-pie)]\r\n",
        "plt.pie(pi,colors=['green','red'])"
      ],
      "execution_count": null,
      "outputs": [
        {
          "output_type": "stream",
          "text": [
            "100%|██████████| 186080/186080 [01:25<00:00, 2186.14it/s]"
          ],
          "name": "stderr"
        },
        {
          "output_type": "stream",
          "text": [
            "1399 3571\n",
            "2.5525375268048607\n"
          ],
          "name": "stdout"
        },
        {
          "output_type": "stream",
          "text": [
            "\n"
          ],
          "name": "stderr"
        },
        {
          "output_type": "execute_result",
          "data": {
            "text/plain": [
              "([<matplotlib.patches.Wedge at 0x7f9cb5a2d588>,\n",
              "  <matplotlib.patches.Wedge at 0x7f9cb5a2dac8>],\n",
              " [Text(-0.036304596108545396, 1.0994007350831614, ''),\n",
              "  Text(0.03630449317521985, -1.0994007384822382, '')])"
            ]
          },
          "metadata": {
            "tags": []
          },
          "execution_count": 61
        },
        {
          "output_type": "display_data",
          "data": {
            "image/png": "[encoded data removed]",
            "text/plain": [
              "<Figure size 432x288 with 1 Axes>"
            ]
          },
          "metadata": {
            "tags": []
          }
        }
      ]
    },
    {
      "cell_type": "code",
      "metadata": {
        "colab": {
          "base_uri": "https://localhost:8080/",
          "height": 314
        },
        "id": "33nFZVUSdERV",
        "outputId": "15c9aa69-ff5c-4fa9-8d74-052abd2b56e9"
      },
      "source": [
        "pos,neg=0,0\r\n",
        "for sent in tqdm(li_A3):\r\n",
        "  dic=sia.polarity_scores(sent)\r\n",
        "  if dic['pos']>0:\r\n",
        "    pos+=1\r\n",
        "  if dic['neg']>0:\r\n",
        "    neg+=1\r\n",
        "print(pos,neg)\r\n",
        "\r\n",
        "values=[(pos/(pos+neg))*100,(neg/(neg+pos)*100)]\r\n",
        "keys=['% positive','% negative']\r\n",
        "g=sns.barplot(x=keys,y=values)\r\n",
        "g.set(ylim=(0,100))\r\n",
        "plt.title('Numeric comparison of Sentiment analysis')\r\n",
        "plt.show()"
      ],
      "execution_count": null,
      "outputs": [
        {
          "output_type": "stream",
          "text": [
            "100%|██████████| 1399/1399 [00:00<00:00, 4745.04it/s]\n"
          ],
          "name": "stderr"
        },
        {
          "output_type": "stream",
          "text": [
            "760 733\n"
          ],
          "name": "stdout"
        },
        {
          "output_type": "display_data",
          "data": {
            "image/png": "[encoded data removed]",
            "text/plain": [
              "<Figure size 432x288 with 1 Axes>"
            ]
          },
          "metadata": {
            "tags": [],
            "needs_background": "light"
          }
        }
      ]
    },
    {
      "cell_type": "code",
      "metadata": {
        "colab": {
          "base_uri": "https://localhost:8080/",
          "height": 365
        },
        "id": "UnxBYu60dn9g",
        "outputId": "48ecd53e-87e8-4205-a555-315592d81d26"
      },
      "source": [
        "from nltk.tokenize import word_tokenize\r\n",
        "from fuzzywuzzy import fuzz \r\n",
        "count=0\r\n",
        "review_about_A5=''\r\n",
        "ind=0\r\n",
        "li_A5=[]\r\n",
        "for sent in tqdm(df['cleaned']):\r\n",
        "  sent=str(sent)\r\n",
        "  toks=word_tokenize(str(sent))\r\n",
        "  if (fuzz.token_set_ratio('customer support',sent)>70) or (fuzz.token_set_ratio('customer service',sent)>80)or (fuzz.token_set_ratio('user friendly',sent)>80)or (fuzz.token_set_ratio('customer care',sent)>80):\r\n",
        "    ind=1\r\n",
        "  for tok in toks:\r\n",
        "    if (fuzz.ratio('customer',tok)>=80) or (fuzz.ratio('service',tok)>90)or (fuzz.ratio('support',tok)>90)or (fuzz.ratio('message',tok)>90)or (fuzz.ratio('response',tok)>90)or (fuzz.ratio('reply',tok)>90):\r\n",
        "      ind=1\r\n",
        "  if ind==1:\r\n",
        "    review_about_A5=review_about_A5+sent+' '\r\n",
        "    li_A5.append(sent)\r\n",
        "    count+=1\r\n",
        "  ind=0\r\n",
        "print('\\n',count)\r\n",
        "print(count/total)\r\n",
        "dic=sia.polarity_scores(review_about_A5)\r\n",
        "print(dic)\r\n",
        "values=[dic['pos'],dic['neg']]\r\n",
        "keys=['Positive','Negative']\r\n",
        "g=sns.barplot(x=keys,y=values)\r\n",
        "g.set(ylim=(0,1))\r\n",
        "plt.title('Sentiment of users about Customer support/service')\r\n",
        "plt.show()"
      ],
      "execution_count": null,
      "outputs": [
        {
          "output_type": "stream",
          "text": [
            "100%|██████████| 186080/186080 [01:12<00:00, 2560.45it/s]\n"
          ],
          "name": "stderr"
        },
        {
          "output_type": "stream",
          "text": [
            "\n",
            " 21126\n",
            "0.2698601264610079\n",
            "{'neg': 0.136, 'neu': 0.577, 'pos': 0.287, 'compound': 1.0}\n"
          ],
          "name": "stdout"
        },
        {
          "output_type": "display_data",
          "data": {
            "image/png": "[encoded data removed]",
            "text/plain": [
              "<Figure size 432x288 with 1 Axes>"
            ]
          },
          "metadata": {
            "tags": [],
            "needs_background": "light"
          }
        }
      ]
    },
    {
      "cell_type": "code",
      "metadata": {
        "colab": {
          "base_uri": "https://localhost:8080/",
          "height": 382
        },
        "id": "1C9oPB0Tg14e",
        "outputId": "a952df49-d03f-4eee-eef0-031431155ba2"
      },
      "source": [
        "from nltk.tokenize import word_tokenize\r\n",
        "from fuzzywuzzy import fuzz \r\n",
        "count=0\r\n",
        "sum_rating_A5=0\r\n",
        "ind=0\r\n",
        "for i in tqdm(range(t)):\r\n",
        "  sent=df.cleaned[i]\r\n",
        "  toks=word_tokenize(str(sent))\r\n",
        "  if (fuzz.token_set_ratio('customer support',sent)>70) or (fuzz.token_set_ratio('customer service',sent)>80)or (fuzz.token_set_ratio('user friendly',sent)>80)or (fuzz.token_set_ratio('customer care',sent)>80):\r\n",
        "    ind=1\r\n",
        "  for tok in toks:\r\n",
        "    if (fuzz.ratio('customer',tok)>=80) or (fuzz.ratio('service',tok)>90)or (fuzz.ratio('support',tok)>90)or (fuzz.ratio('message',tok)>90)or (fuzz.ratio('response',tok)>90)or (fuzz.ratio('reply',tok)>90):\r\n",
        "      ind=1\r\n",
        "  if ind==1:\r\n",
        "    sum_rating_A5+=df.score[i]\r\n",
        "    count+=1\r\n",
        "  ind=0\r\n",
        "print('\\n',sum_rating_A5,count)\r\n",
        "print(sum_rating_A5/count)\r\n",
        "pie=sum_rating_A5/count\r\n",
        "pi=[pie,(5-pie)]\r\n",
        "plt.pie(pi,colors=['green','red'])"
      ],
      "execution_count": null,
      "outputs": [
        {
          "output_type": "stream",
          "text": [
            "100%|██████████| 186080/186080 [01:09<00:00, 2692.75it/s]\n"
          ],
          "name": "stderr"
        },
        {
          "output_type": "stream",
          "text": [
            "\n",
            " 61342 21126\n",
            "2.9036258638644323\n"
          ],
          "name": "stdout"
        },
        {
          "output_type": "execute_result",
          "data": {
            "text/plain": [
              "([<matplotlib.patches.Wedge at 0x7f9cb59ef4e0>,\n",
              "  <matplotlib.patches.Wedge at 0x7f9cb5997be0>],\n",
              " [Text(-0.2759855176777073, 1.0648154741701343, ''),\n",
              "  Text(0.2759855176777074, -1.0648154741701343, '')])"
            ]
          },
          "metadata": {
            "tags": []
          },
          "execution_count": 65
        },
        {
          "output_type": "display_data",
          "data": {
            "image/png": "[encoded data removed]",
            "text/plain": [
              "<Figure size 432x288 with 1 Axes>"
            ]
          },
          "metadata": {
            "tags": []
          }
        }
      ]
    },
    {
      "cell_type": "code",
      "metadata": {
        "colab": {
          "base_uri": "https://localhost:8080/",
          "height": 298
        },
        "id": "PJCrRw9Ghspy",
        "outputId": "89c5086c-a985-49e2-bc9e-e30c8bd50088"
      },
      "source": [
        "pos,neg=0,0\r\n",
        "for sent in li_A5:\r\n",
        "  dic=sia.polarity_scores(sent)\r\n",
        "  if dic['pos']>0:\r\n",
        "    pos+=1\r\n",
        "  if dic['neg']>0:\r\n",
        "    neg+=1\r\n",
        "print(pos,neg)\r\n",
        "\r\n",
        "values=[(pos/(pos+neg))*100,(neg/(neg+pos)*100)]\r\n",
        "keys=['% positive','% negative']\r\n",
        "g=sns.barplot(x=keys,y=values)\r\n",
        "g.set(ylim=(0,100))\r\n",
        "plt.title('Numeric comparison of Sentiment analysis')\r\n",
        "plt.show()"
      ],
      "execution_count": null,
      "outputs": [
        {
          "output_type": "stream",
          "text": [
            "17363 9835\n"
          ],
          "name": "stdout"
        },
        {
          "output_type": "display_data",
          "data": {
            "image/png": "[encoded data removed]",
            "text/plain": [
              "<Figure size 432x288 with 1 Axes>"
            ]
          },
          "metadata": {
            "tags": [],
            "needs_background": "light"
          }
        }
      ]
    },
    {
      "cell_type": "code",
      "metadata": {
        "colab": {
          "base_uri": "https://localhost:8080/",
          "height": 348
        },
        "id": "ncc6rb0Oj-F1",
        "outputId": "b7bd5b99-2a34-4dfb-ed95-ca5fe95bfd98"
      },
      "source": [
        "from nltk.tokenize import word_tokenize\r\n",
        "from fuzzywuzzy import fuzz \r\n",
        "count=0\r\n",
        "review_about_A6=''\r\n",
        "li_A6=[]\r\n",
        "for sent in tqdm(df['cleaned']):\r\n",
        "  sent=str(sent)\r\n",
        "  toks=word_tokenize(str(sent))\r\n",
        "  if (fuzz.token_set_ratio('processing fee',sent)>70) or (fuzz.token_set_ratio('process fee',sent)>80)or (fuzz.token_set_ratio('hidden charges',sent)>80)or (fuzz.ratio('extra cost',sent)>80):\r\n",
        "    ind=1\r\n",
        "  for tok in toks:\r\n",
        "    if (fuzz.ratio('fee',tok)>=80) or (fuzz.ratio('charge',tok)>90)or (fuzz.ratio('hidden',tok)>90)or (fuzz.ratio('cost',tok)>90)or (fuzz.ratio('processing',tok)>90)or (fuzz.ratio('tax',tok)>90)or (fuzz.ratio('taxation',tok)>90)or (fuzz.partial_ratio('looting', tok)>90)or (fuzz.ratio('loot',tok)>90)or (fuzz.ratio('extra',tok)>90)or (fuzz.ratio('gst',tok)>=80)or (fuzz.ratio('overdue',tok)>90)or (fuzz.ratio('bounce',tok)>90):\r\n",
        "      ind=1\r\n",
        "  if ind==1:\r\n",
        "    review_about_A6=review_about_A6+sent+' '\r\n",
        "    li_A6.append(sent)\r\n",
        "    count+=1\r\n",
        "  ind=0\r\n",
        "print('\\n',count,count/total)\r\n",
        "dic=sia.polarity_scores(review_about_A6)\r\n",
        "print(dic)\r\n",
        "values=[dic['pos'],dic['neg']]\r\n",
        "keys=['Positive','Negative']\r\n",
        "g=sns.barplot(x=keys,y=values)\r\n",
        "g.set(ylim=(0,1))\r\n",
        "plt.title('Sentiment of users about processing fee/extra charges')\r\n",
        "plt.show()"
      ],
      "execution_count": null,
      "outputs": [
        {
          "output_type": "stream",
          "text": [
            "100%|██████████| 186080/186080 [01:42<00:00, 1815.27it/s]\n"
          ],
          "name": "stderr"
        },
        {
          "output_type": "stream",
          "text": [
            "\n",
            " 9841 0.12570735134444658\n",
            "{'neg': 0.147, 'neu': 0.634, 'pos': 0.219, 'compound': 1.0}\n"
          ],
          "name": "stdout"
        },
        {
          "output_type": "display_data",
          "data": {
            "image/png": "[encoded data removed]",
            "text/plain": [
              "<Figure size 432x288 with 1 Axes>"
            ]
          },
          "metadata": {
            "tags": [],
            "needs_background": "light"
          }
        }
      ]
    },
    {
      "cell_type": "code",
      "metadata": {
        "id": "y6HQyEFtnC7t"
      },
      "source": [
        "print(dic)"
      ],
      "execution_count": null,
      "outputs": []
    },
    {
      "cell_type": "code",
      "metadata": {
        "colab": {
          "base_uri": "https://localhost:8080/",
          "height": 366
        },
        "id": "QtU6IHJ5l-7x",
        "outputId": "440cd747-5114-47da-ea87-299892ba5d14"
      },
      "source": [
        "count=0\r\n",
        "sum_rating_A6=0\r\n",
        "for i in tqdm(range(t)):\r\n",
        "  sent=str(df['cleaned'][i])\r\n",
        "  toks=word_tokenize(sent)\r\n",
        "  if (fuzz.token_set_ratio('processing fee',sent)>70) or (fuzz.token_set_ratio('process fee',sent)>80)or (fuzz.token_set_ratio('hidden charges',sent)>80)or (fuzz.ratio('extra cost',sent)>80):\r\n",
        "    ind=1\r\n",
        "  for tok in toks:\r\n",
        "    if (fuzz.ratio('fee',tok)>=80) or (fuzz.ratio('charge',tok)>90)or (fuzz.ratio('hidden',tok)>90)or (fuzz.ratio('cost',tok)>90)or (fuzz.ratio('processing',tok)>90)or (fuzz.ratio('tax',tok)>90)or (fuzz.ratio('taxation',tok)>90)or (fuzz.partial_ratio('looting', tok)>90)or (fuzz.ratio('loot',tok)>90)or (fuzz.ratio('extra',tok)>90)or (fuzz.ratio('gst',tok)>=80)or (fuzz.ratio('overdue',tok)>90)or (fuzz.ratio('bounce',tok)>90):\r\n",
        "      ind=1\r\n",
        "  if ind==1:\r\n",
        "    count+=1\r\n",
        "    sum_rating_A6+=df.score[i]\r\n",
        "  ind=0\r\n",
        "print('\\n',sum_rating_A6/count)\r\n",
        "pie=sum_rating_A6/count\r\n",
        "pi=[pie,(5-pie)]\r\n",
        "plt.pie(pi,colors=['green','red'])"
      ],
      "execution_count": null,
      "outputs": [
        {
          "output_type": "stream",
          "text": [
            "100%|██████████| 186080/186080 [01:44<00:00, 1784.16it/s]\n"
          ],
          "name": "stderr"
        },
        {
          "output_type": "stream",
          "text": [
            "\n",
            " 2.576465806320496\n"
          ],
          "name": "stdout"
        },
        {
          "output_type": "execute_result",
          "data": {
            "text/plain": [
              "([<matplotlib.patches.Wedge at 0x7f9cb3b0cba8>,\n",
              "  <matplotlib.patches.Wedge at 0x7f9cb32cdf98>],\n",
              " [Text(-0.052829109528005375, 1.0987306699944615, ''),\n",
              "  Text(0.05282910952800524, -1.0987306699944615, '')])"
            ]
          },
          "metadata": {
            "tags": []
          },
          "execution_count": 68
        },
        {
          "output_type": "display_data",
          "data": {
            "image/png": "[encoded data removed]",
            "text/plain": [
              "<Figure size 432x288 with 1 Axes>"
            ]
          },
          "metadata": {
            "tags": []
          }
        }
      ]
    },
    {
      "cell_type": "code",
      "metadata": {
        "colab": {
          "base_uri": "https://localhost:8080/",
          "height": 314
        },
        "id": "KurpxKv0m9yB",
        "outputId": "9eec4521-d727-4264-fa27-c748cdc59872"
      },
      "source": [
        "pos,neg=0,0\r\n",
        "for sent in tqdm(li_A6):\r\n",
        "  dic=sia.polarity_scores(sent)\r\n",
        "  if dic['pos']>0:\r\n",
        "    pos+=1\r\n",
        "  if dic['neg']>0:\r\n",
        "    neg+=1\r\n",
        "print(pos,neg)\r\n",
        "\r\n",
        "values=[(pos/(pos+neg))*100,(neg/(neg+pos)*100)]\r\n",
        "keys=['% positive','% negative']\r\n",
        "g=sns.barplot(x=keys,y=values)\r\n",
        "g.set(ylim=(0,100))\r\n",
        "plt.title('Numeric comparison of Sentiment analysis')\r\n",
        "plt.show()"
      ],
      "execution_count": null,
      "outputs": [
        {
          "output_type": "stream",
          "text": [
            "100%|██████████| 9841/9841 [00:02<00:00, 3801.36it/s]\n"
          ],
          "name": "stderr"
        },
        {
          "output_type": "stream",
          "text": [
            "7117 5538\n"
          ],
          "name": "stdout"
        },
        {
          "output_type": "display_data",
          "data": {
            "image/png": "[encoded data removed]",
            "text/plain": [
              "<Figure size 432x288 with 1 Axes>"
            ]
          },
          "metadata": {
            "tags": [],
            "needs_background": "light"
          }
        }
      ]
    },
    {
      "cell_type": "code",
      "metadata": {
        "colab": {
          "base_uri": "https://localhost:8080/",
          "height": 348
        },
        "id": "V_RBXvzOnoVG",
        "outputId": "125bd5c3-4003-428e-8a4d-ddad6f1fa8a5"
      },
      "source": [
        "from nltk.tokenize import word_tokenize\r\n",
        "from fuzzywuzzy import fuzz \r\n",
        "count=0\r\n",
        "review_about_A7=''\r\n",
        "ind=0\r\n",
        "li_A7=[]\r\n",
        "for sent in tqdm(df['cleaned']):\r\n",
        "  sent=str(sent)\r\n",
        "  toks=word_tokenize(str(sent))\r\n",
        "  if (fuzz.token_set_ratio('waiting approval',sent)>70):\r\n",
        "    ind=1\r\n",
        "  for tok in toks:\r\n",
        "    if (fuzz.ratio('time',tok)>=80) or (fuzz.ratio('late',tok)>90)or (fuzz.ratio('waiting',tok)>90)or (fuzz.ratio('delay',tok)>90)or (fuzz.ratio('tenure',tok)>90)or (fuzz.ratio('limit',tok)>90)or (fuzz.ratio('long',tok)>90)or (fuzz.ratio('date',tok)>90)or (fuzz.ratio('emergency',tok)>90)or (fuzz.ratio('quick',tok)>90)or (fuzz.ratio('speedy',tok)>90)or (fuzz.ratio('disburse',tok)>90)or (fuzz.ratio('pending',tok)>90)or (fuzz.ratio('wait',tok)>90):\r\n",
        "      ind=1\r\n",
        "  if ind==1:\r\n",
        "    review_about_A7=review_about_A7+sent+' '\r\n",
        "    li_A7.append(sent)\r\n",
        "    count+=1\r\n",
        "  ind=0\r\n",
        "print('\\n',count,count/total)\r\n",
        "dic=sia.polarity_scores(review_about_A7)\r\n",
        "print(dic)\r\n",
        "values=[dic['pos'],dic['neg']]\r\n",
        "keys=['Positive','Negative']\r\n",
        "g=sns.barplot(x=keys,y=values)\r\n",
        "g.set(ylim=(0,1))\r\n",
        "plt.title('Sentiment of users about commited TAT')\r\n",
        "plt.show()  "
      ],
      "execution_count": null,
      "outputs": [
        {
          "output_type": "stream",
          "text": [
            "100%|██████████| 186080/186080 [01:30<00:00, 2045.81it/s]\n"
          ],
          "name": "stderr"
        },
        {
          "output_type": "stream",
          "text": [
            "\n",
            " 16432 0.20989972536245768\n",
            "{'neg': 0.168, 'neu': 0.645, 'pos': 0.187, 'compound': 1.0}\n"
          ],
          "name": "stdout"
        },
        {
          "output_type": "display_data",
          "data": {
            "image/png": "[encoded data removed]",
            "text/plain": [
              "<Figure size 432x288 with 1 Axes>"
            ]
          },
          "metadata": {
            "tags": [],
            "needs_background": "light"
          }
        }
      ]
    },
    {
      "cell_type": "code",
      "metadata": {
        "colab": {
          "base_uri": "https://localhost:8080/",
          "height": 366
        },
        "id": "ND5goTb9qv6n",
        "outputId": "f3364f34-88cd-40bd-81f3-44691ba715ca"
      },
      "source": [
        "count=0\r\n",
        "sum_rating_A7=0\r\n",
        "for i in tqdm(range(t)):\r\n",
        "  sent=str(df['cleaned'][i])\r\n",
        "  sent=str(sent)\r\n",
        "  toks=word_tokenize(sent)\r\n",
        "  if (fuzz.token_set_ratio('waiting approval',sent)>70):\r\n",
        "    ind=1\r\n",
        "  for tok in toks:\r\n",
        "    if (fuzz.ratio('time',tok)>=80) or (fuzz.ratio('late',tok)>90)or (fuzz.ratio('waiting',tok)>90)or (fuzz.ratio('delay',tok)>90)or (fuzz.ratio('tenure',tok)>90)or (fuzz.ratio('limit',tok)>90)or (fuzz.ratio('long',tok)>90)or (fuzz.ratio('date',tok)>90)or (fuzz.ratio('emergency',tok)>90)or (fuzz.ratio('quick',tok)>90)or (fuzz.ratio('speedy',tok)>90)or (fuzz.ratio('disburse',tok)>90)or (fuzz.ratio('pending',tok)>90)or (fuzz.ratio('wait',tok)>90):\r\n",
        "      ind=1\r\n",
        "  if ind==1:\r\n",
        "    count+=1\r\n",
        "    sum_rating_A7+=df.score[i]\r\n",
        "  ind=0\r\n",
        "print('\\n',count,sum_rating_A7/count)\r\n",
        "pie=sum_rating_A7/count\r\n",
        "pi=[pie,(5-pie)]\r\n",
        "plt.pie(pi,colors=['green','red'])"
      ],
      "execution_count": null,
      "outputs": [
        {
          "output_type": "stream",
          "text": [
            "100%|██████████| 186080/186080 [01:29<00:00, 2089.54it/s]\n"
          ],
          "name": "stderr"
        },
        {
          "output_type": "stream",
          "text": [
            "\n",
            " 16432 2.424659201557936\n"
          ],
          "name": "stdout"
        },
        {
          "output_type": "execute_result",
          "data": {
            "text/plain": [
              "([<matplotlib.patches.Wedge at 0x7f9cb2509828>,\n",
              "  <matplotlib.patches.Wedge at 0x7f9cb2509d68>],\n",
              " [Text(0.052052320568805856, 1.0987677443042285, ''),\n",
              "  Text(-0.052052217694744905, -1.0987677491777137, '')])"
            ]
          },
          "metadata": {
            "tags": []
          },
          "execution_count": 72
        },
        {
          "output_type": "display_data",
          "data": {
            "image/png": "[encoded data removed]",
            "text/plain": [
              "<Figure size 432x288 with 1 Axes>"
            ]
          },
          "metadata": {
            "tags": []
          }
        }
      ]
    },
    {
      "cell_type": "code",
      "metadata": {
        "colab": {
          "base_uri": "https://localhost:8080/",
          "height": 281
        },
        "id": "jO6-x6UTtQkt",
        "outputId": "995fde1d-54b3-469b-8a55-16021325baee"
      },
      "source": [
        "pos,neg=0,0\r\n",
        "for sent in li_A7:\r\n",
        "  dic=sia.polarity_scores(sent)\r\n",
        "  if (dic['pos']>0):\r\n",
        "    pos+=1\r\n",
        "  if (dic['neg']>0):\r\n",
        "    neg+=1\r\n",
        "values=[(pos/(pos+neg))*100,(neg/(neg+pos)*100)]\r\n",
        "keys=['% positive','% negative']\r\n",
        "g=sns.barplot(x=keys,y=values)\r\n",
        "g.set(ylim=(0,100))\r\n",
        "plt.title('Numeric comparision of Sentiment analysis')\r\n",
        "plt.show()"
      ],
      "execution_count": null,
      "outputs": [
        {
          "output_type": "display_data",
          "data": {
            "image/png": "[encoded data removed]",
            "text/plain": [
              "<Figure size 432x288 with 1 Axes>"
            ]
          },
          "metadata": {
            "tags": [],
            "needs_background": "light"
          }
        }
      ]
    },
    {
      "cell_type": "code",
      "metadata": {
        "colab": {
          "base_uri": "https://localhost:8080/",
          "height": 348
        },
        "id": "W4zSninHtsy3",
        "outputId": "f5198b00-f8b3-437d-d2bf-d3499ce7ef18"
      },
      "source": [
        "from fuzzywuzzy import fuzz\r\n",
        "from nltk.tokenize import word_tokenize\r\n",
        "review_about_A8=''\r\n",
        "li_A8=[]\r\n",
        "ind=0\r\n",
        "count=0\r\n",
        "for sent in tqdm(df['cleaned']):\r\n",
        "  sent=str(sent)\r\n",
        "  toks=word_tokenize(sent)\r\n",
        "  for tok in toks:\r\n",
        "    if (fuzz.ratio('trust',tok)>90)or (fuzz.ratio('fake',tok)>90)or(fuzz.ratio('fraud',tok)>90)or (fuzz.ratio('waste',tok)>90)or (fuzz.ratio('harassment',tok)>90)or (fuzz.ratio('rbi',tok)>90)or (fuzz.ratio('nbfc',tok)>90) or (fuzz.ratio('law',tok)>90) or (fuzz.ratio('legal',tok)>90)or (fuzz.ratio('cheat',tok)>80)or (fuzz.ratio('scam',tok)>90)or (fuzz.ratio('uninstall',tok)>85):\r\n",
        "      ind=1\r\n",
        "  if ind==1:\r\n",
        "    review_about_A8=review_about_A8+sent+' '\r\n",
        "    li_A8.append(sent)\r\n",
        "    count+=1\r\n",
        "  ind=0\r\n",
        "print('\\n',count,count/total)\r\n",
        "dic=sia.polarity_scores(review_about_A8)\r\n",
        "print(dic)\r\n",
        "values=[dic['pos'],dic['neg']]\r\n",
        "keys=['Positive','Negative']\r\n",
        "g=sns.barplot(x=keys,y=values)\r\n",
        "g.set(ylim=(0,1))\r\n",
        "plt.title('Sentiment of users about trust')\r\n",
        "plt.show() "
      ],
      "execution_count": null,
      "outputs": [
        {
          "output_type": "stream",
          "text": [
            "100%|██████████| 186080/186080 [01:15<00:00, 2477.89it/s]\n"
          ],
          "name": "stderr"
        },
        {
          "output_type": "stream",
          "text": [
            "\n",
            " 13849 0.17690489876732451\n",
            "{'neg': 0.249, 'neu': 0.596, 'pos': 0.156, 'compound': -1.0}\n"
          ],
          "name": "stdout"
        },
        {
          "output_type": "display_data",
          "data": {
            "image/png": "[encoded data removed]",
            "text/plain": [
              "<Figure size 432x288 with 1 Axes>"
            ]
          },
          "metadata": {
            "tags": [],
            "needs_background": "light"
          }
        }
      ]
    },
    {
      "cell_type": "code",
      "metadata": {
        "colab": {
          "base_uri": "https://localhost:8080/",
          "height": 366
        },
        "id": "ayRK9aipulfA",
        "outputId": "1a91cfb1-08ac-4330-aaa7-3da7e28a080e"
      },
      "source": [
        "ind=0\r\n",
        "count=0\r\n",
        "sum_rating_A8=0\r\n",
        "for i in tqdm(range(t)):\r\n",
        "  sent=str(df['cleaned'][i])\r\n",
        "  toks=word_tokenize(sent)\r\n",
        "  for tok in toks:\r\n",
        "    if (fuzz.ratio('trust',tok)>90)or (fuzz.ratio('fake',tok)>90)or(fuzz.ratio('fraud',tok)>90)or (fuzz.ratio('waste',tok)>90)or (fuzz.ratio('harassment',tok)>90)or (fuzz.ratio('rbi',tok)>90)or (fuzz.ratio('nbfc',tok)>90) or (fuzz.ratio('law',tok)>90) or (fuzz.ratio('legal',tok)>90)or (fuzz.ratio('cheat',tok)>80)or (fuzz.ratio('scam',tok)>90)or (fuzz.ratio('uninstall',tok)>85):\r\n",
        "      ind=1\r\n",
        "  if ind==1:\r\n",
        "    sum_rating_A8+=df.score[i]\r\n",
        "    count+=1\r\n",
        "  ind=0\r\n",
        "print('\\n',count,sum_rating_A8/count)\r\n",
        "pie=sum_rating_A8/count\r\n",
        "pi=[pie,(5-pie)]\r\n",
        "plt.pie(pi,colors=['green','red'])"
      ],
      "execution_count": null,
      "outputs": [
        {
          "output_type": "stream",
          "text": [
            "100%|██████████| 186080/186080 [01:13<00:00, 2541.92it/s]"
          ],
          "name": "stderr"
        },
        {
          "output_type": "stream",
          "text": [
            "\n",
            " 13849 1.7424362769875081\n"
          ],
          "name": "stdout"
        },
        {
          "output_type": "stream",
          "text": [
            "\n"
          ],
          "name": "stderr"
        },
        {
          "output_type": "execute_result",
          "data": {
            "text/plain": [
              "([<matplotlib.patches.Wedge at 0x7f9cb38b0358>,\n",
              "  <matplotlib.patches.Wedge at 0x7f9cb449c278>],\n",
              " [Text(0.5040417729621536, 0.9777228089336819, ''),\n",
              "  Text(-0.5040417729621539, -0.9777228089336818, '')])"
            ]
          },
          "metadata": {
            "tags": []
          },
          "execution_count": 75
        },
        {
          "output_type": "display_data",
          "data": {
            "image/png": "[encoded data removed]",
            "text/plain": [
              "<Figure size 432x288 with 1 Axes>"
            ]
          },
          "metadata": {
            "tags": []
          }
        }
      ]
    },
    {
      "cell_type": "code",
      "metadata": {
        "colab": {
          "base_uri": "https://localhost:8080/",
          "height": 298
        },
        "id": "zqas8KFJvqRs",
        "outputId": "0098e392-743c-4bbb-a269-422716be6678"
      },
      "source": [
        "pos,neg=0,0\r\n",
        "for sent in li_A8:\r\n",
        "  dic=sia.polarity_scores(sent)\r\n",
        "  if (dic['pos']>0):\r\n",
        "    pos+=1\r\n",
        "  if (dic['neg']>0):\r\n",
        "    neg+=1\r\n",
        "\r\n",
        "print(pos,neg)\r\n",
        "values=[(pos/(pos+neg))*100,(neg/(neg+pos)*100)]\r\n",
        "keys=['% positive','% negative']\r\n",
        "g=sns.barplot(x=keys,y=values)\r\n",
        "g.set(ylim=(0,100))\r\n",
        "plt.title('Numeric comparision of Sentiment analysis')\r\n",
        "plt.show()\r\n"
      ],
      "execution_count": null,
      "outputs": [
        {
          "output_type": "stream",
          "text": [
            "7409 11089\n"
          ],
          "name": "stdout"
        },
        {
          "output_type": "display_data",
          "data": {
            "image/png": "[encoded data removed]",
            "text/plain": [
              "<Figure size 432x288 with 1 Axes>"
            ]
          },
          "metadata": {
            "tags": [],
            "needs_background": "light"
          }
        }
      ]
    },
    {
      "cell_type": "code",
      "metadata": {
        "colab": {
          "base_uri": "https://localhost:8080/",
          "height": 348
        },
        "id": "UTQ1DlSov8_s",
        "outputId": "4005db37-5a51-43e0-ebe9-eafd68b32107"
      },
      "source": [
        "ind=0\r\n",
        "count=0\r\n",
        "review_about_A9=''\r\n",
        "li_A9=[]\r\n",
        "for sent in tqdm(df['cleaned']):\r\n",
        "  sent=str(sent)\r\n",
        "  toks=word_tokenize(sent)\r\n",
        "  if (fuzz.partial_token_set_ratio('covid situation',sent)>90)or (fuzz.token_set_ratio('corona virus',sent)>90):\r\n",
        "    ind=1\r\n",
        "  for tok in toks:\r\n",
        "    if (fuzz.ratio('Kovid',tok)>90) or (fuzz.ratio('covid',tok)>90)or (fuzz.ratio('pandemic',tok)>90)or (fuzz.ratio('corona',tok)>90) or (fuzz.ratio('lockdown',tok)>90):\r\n",
        "      ind=1\r\n",
        "  if ind==1:\r\n",
        "    count+=1\r\n",
        "    review_about_A9=review_about_A9+sent+' '\r\n",
        "    li_A9.append(sent)\r\n",
        "  ind=0\r\n",
        "\r\n",
        "print('\\n',count,count/total)\r\n",
        "dic=sia.polarity_scores(review_about_A9)\r\n",
        "values=[dic['pos'],dic['neg']]\r\n",
        "print(dic)\r\n",
        "keys=['Positive','Negative']\r\n",
        "g=sns.barplot(x=keys,y=values)\r\n",
        "g.set(ylim=(0,1))\r\n",
        "plt.title('Sentiment of users about Covid situation')\r\n",
        "plt.show() "
      ],
      "execution_count": null,
      "outputs": [
        {
          "output_type": "stream",
          "text": [
            "100%|██████████| 186080/186080 [00:56<00:00, 3293.65it/s]\n"
          ],
          "name": "stderr"
        },
        {
          "output_type": "stream",
          "text": [
            "\n",
            " 3029 0.03869195886823785\n",
            "{'neg': 0.071, 'neu': 0.573, 'pos': 0.357, 'compound': 1.0}\n"
          ],
          "name": "stdout"
        },
        {
          "output_type": "display_data",
          "data": {
            "image/png": "[encoded data removed]",
            "text/plain": [
              "<Figure size 432x288 with 1 Axes>"
            ]
          },
          "metadata": {
            "tags": [],
            "needs_background": "light"
          }
        }
      ]
    },
    {
      "cell_type": "code",
      "metadata": {
        "colab": {
          "base_uri": "https://localhost:8080/",
          "height": 366
        },
        "id": "SY1lMoFhwfPF",
        "outputId": "8a5199f1-8430-4bcb-f561-c6130b8fa99c"
      },
      "source": [
        "count=0\r\n",
        "sum_rating_A9=0\r\n",
        "ind=0\r\n",
        "for i in tqdm(range(t)):\r\n",
        "  sent=str(df['cleaned'][i])\r\n",
        "  toks=word_tokenize(sent)\r\n",
        "  if (fuzz.partial_token_set_ratio('covid situation',sent)>90)or (fuzz.token_set_ratio('corona virus',sent)>90):\r\n",
        "    ind=1\r\n",
        "  for tok in toks:\r\n",
        "    if (fuzz.ratio('Kovid',tok)>90) or (fuzz.ratio('covid',tok)>90)or (fuzz.ratio('pandemic',tok)>90)or (fuzz.ratio('corona',tok)>90) or (fuzz.ratio('lockdown',tok)>90):\r\n",
        "      ind=1\r\n",
        "  if ind==1:\r\n",
        "    sum_rating_A9+=df.score[i]\r\n",
        "    count+=1\r\n",
        "  ind=0  \r\n",
        "print('\\n',count,sum_rating_A9/count)\r\n",
        "pie=sum_rating_A9/count\r\n",
        "pi=[pie,(5-pie)]\r\n",
        "plt.pie(pi,colors=['green','red'])"
      ],
      "execution_count": null,
      "outputs": [
        {
          "output_type": "stream",
          "text": [
            "100%|██████████| 186080/186080 [01:00<00:00, 3092.90it/s]\n"
          ],
          "name": "stderr"
        },
        {
          "output_type": "stream",
          "text": [
            "\n",
            " 3029 4.206999009574117\n"
          ],
          "name": "stdout"
        },
        {
          "output_type": "execute_result",
          "data": {
            "text/plain": [
              "([<matplotlib.patches.Wedge at 0x7f9cb43fbf98>,\n",
              "  <matplotlib.patches.Wedge at 0x7f9cb4409518>],\n",
              " [Text(-0.9662584180986007, 0.5256849526604219, ''),\n",
              "  Text(0.9662583934895107, -0.5256849978942431, '')])"
            ]
          },
          "metadata": {
            "tags": []
          },
          "execution_count": 78
        },
        {
          "output_type": "display_data",
          "data": {
            "image/png": "[encoded data removed]",
            "text/plain": [
              "<Figure size 432x288 with 1 Axes>"
            ]
          },
          "metadata": {
            "tags": []
          }
        }
      ]
    },
    {
      "cell_type": "code",
      "metadata": {
        "colab": {
          "base_uri": "https://localhost:8080/",
          "height": 298
        },
        "id": "kOPHA6nVxI3l",
        "outputId": "b1e73b74-298c-48eb-e02a-1d98dc78f3a7"
      },
      "source": [
        "pos,neg=0,0\r\n",
        "for sent in li_A9:\r\n",
        "  dic=sia.polarity_scores(sent)\r\n",
        "  if (dic['pos']>0):\r\n",
        "    pos+=1\r\n",
        "  if (dic['neg']>0):\r\n",
        "    neg+=1\r\n",
        "\r\n",
        "print(pos,neg)\r\n",
        "values=[(pos/(pos+neg))*100,(neg/(neg+pos)*100)]\r\n",
        "keys=['% positive','% negative']\r\n",
        "g=sns.barplot(x=keys,y=values)\r\n",
        "g.set(ylim=(0,100))\r\n",
        "plt.title('Numeric comparision of Sentiment analysis')\r\n",
        "plt.show()"
      ],
      "execution_count": null,
      "outputs": [
        {
          "output_type": "stream",
          "text": [
            "2699 887\n"
          ],
          "name": "stdout"
        },
        {
          "output_type": "display_data",
          "data": {
            "image/png": "[encoded data removed]",
            "text/plain": [
              "<Figure size 432x288 with 1 Axes>"
            ]
          },
          "metadata": {
            "tags": [],
            "needs_background": "light"
          }
        }
      ]
    },
    {
      "cell_type": "code",
      "metadata": {
        "id": "gOt9L69l0brp"
      },
      "source": [
        "key=['Interest rate value','Delayed EMI payment problems','Loan rejection though good characteristics','Customer Support','Processing fee/charges','Meeting committed TAT','Customer trust','Covid effect']\r\n",
        "y=[4.45,6.90,1.78,26.98,12.57,20.98,17.69,3.86]"
      ],
      "execution_count": null,
      "outputs": []
    },
    {
      "cell_type": "code",
      "metadata": {
        "id": "7I_rFlVb0d96"
      },
      "source": [
        "key=['Interest rate value','Delayed EMI payment problems','Loan rejection though good characteristics','Customer Support','Processing fee/charges','Meeting committed TAT','Customer trust','Covid effect']\r\n",
        "y=[3.57,2.21,2.51,2.90,2.57,2.42,1.74,4.20]"
      ],
      "execution_count": null,
      "outputs": []
    },
    {
      "cell_type": "code",
      "metadata": {
        "colab": {
          "base_uri": "https://localhost:8080/",
          "height": 371
        },
        "id": "2vrQsk4kxkZh",
        "outputId": "b760d058-b893-440a-d400-d426d2ad15e0"
      },
      "source": [
        "import matplotlib.pyplot as plt; plt.rcdefaults()\r\n",
        "import numpy as np\r\n",
        "import matplotlib.pyplot as plt\r\n",
        "key=['Interest rate value','Delayed EMI payment problems','Loan rejection though good characteristics','Customer Support','Processing fee/charges','Meeting committed TAT','Customer trust','Covid effect']\r\n",
        "y=[4.45,6.90,1.78,26.98,12.57,20.98,17.69,3.86]\r\n",
        "d=pd.DataFrame(key,columns=['key'])\r\n",
        "d['y']=y\r\n",
        "d=d.sort_values(by='y')\r\n",
        "key=list(d.key)\r\n",
        "y=list(d.y)\r\n",
        "\r\n",
        "\r\n",
        "objects = tuple(key)\r\n",
        "y_pos = np.arange(len(objects))\r\n",
        "performance = y\r\n",
        "fig, ax = plt.subplots()\r\n",
        "ax.barh(y_pos, performance, align='center', alpha=0.5,color='blue')\r\n",
        "plt.xlim(0,40)\r\n",
        "plt.yticks(y_pos, objects)\r\n",
        "plt.xlabel('Numbers in percentage out of cleaned data')\r\n",
        "plt.title('What are people writing about?')\r\n",
        "for i, v in enumerate(performance):\r\n",
        "    ax.text(v + 3, i, str(v)+'%', color='blue',horizontalalignment='center',verticalalignment='center')\r\n",
        "plt.show()"
      ],
      "execution_count": null,
      "outputs": [
        {
          "output_type": "display_data",
          "data": {
            "image/png": "[encoded data removed]",
            "text/plain": [
              "<Figure size 640x480 with 1 Axes>"
            ]
          },
          "metadata": {
            "tags": []
          }
        }
      ]
    },
    {
      "cell_type": "code",
      "metadata": {
        "colab": {
          "base_uri": "https://localhost:8080/",
          "height": 373
        },
        "id": "IoXZjoOq0ZuK",
        "outputId": "3662c442-6d93-4e5b-eb6d-b1fb200d9023"
      },
      "source": [
        "key=['Interest rate value','Delayed EMI payment problems','Loan rejection though good characteristics','Customer Support','Processing fee/charges','Meeting committed TAT','Customer trust','Covid effect']\r\n",
        "y=[3.57,2.21,2.51,2.90,2.57,2.42,1.74,4.20]\r\n",
        "d=pd.DataFrame(key,columns=['key'])\r\n",
        "d['y']=y\r\n",
        "d=d.sort_values(by='y')\r\n",
        "key=list(d.key)\r\n",
        "y=list(d.y)\r\n",
        "objects = tuple(key)\r\n",
        "y_pos = np.arange(len(objects))\r\n",
        "performance = y\r\n",
        "fig, ax = plt.subplots()\r\n",
        "ax.barh(y_pos, performance, align='center', alpha=0.5,color='blue')\r\n",
        "plt.xlim(0,5)\r\n",
        "plt.yticks(y_pos, objects)\r\n",
        "plt.xlabel('Numbers in percentage out of cleaned data')\r\n",
        "plt.title('What are people writing about?')\r\n",
        "for i, v in enumerate(performance):\r\n",
        "    ax.text(v+0.4 , i, str(v)+'%', color='blue',horizontalalignment='center',verticalalignment='center')\r\n",
        "plt.show()"
      ],
      "execution_count": null,
      "outputs": [
        {
          "output_type": "display_data",
          "data": {
            "image/png": "[encoded data removed]",
            "text/plain": [
              "<Figure size 640x480 with 1 Axes>"
            ]
          },
          "metadata": {
            "tags": []
          }
        }
      ]
    },
    {
      "cell_type": "code",
      "metadata": {
        "id": "lVQLD9vn1a73"
      },
      "source": [
        ""
      ],
      "execution_count": null,
      "outputs": []
    }
  ]
}